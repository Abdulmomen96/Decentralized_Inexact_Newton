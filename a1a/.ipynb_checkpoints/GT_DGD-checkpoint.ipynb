{
 "cells": [
  {
   "cell_type": "code",
   "execution_count": 1,
   "metadata": {
    "_cell_guid": "b1076dfc-b9ad-4769-8c92-a6c4dae69d19",
    "_uuid": "8f2839f25d086af736a60e9eeb907d3b93b6e0e5",
    "executionInfo": {
     "elapsed": 312,
     "status": "ok",
     "timestamp": 1654762797257,
     "user": {
      "displayName": "Abdulmomen Gholka",
      "userId": "04436549372656956778"
     },
     "user_tz": -180
    },
    "id": "VYzJgl_mTuOo"
   },
   "outputs": [],
   "source": [
    "import numpy as np # linear algebra\n",
    "import pandas as pd # data processing, CSV file I/O (e.g. pd.read_csv)\n",
    "import tensorflow as tf\n",
    "import os\n",
    "\n",
    "import scipy\n",
    "import networkx as nx\n",
    "\n",
    "from sklearn.linear_model import LogisticRegression\n",
    "from sklearn.metrics import log_loss"
   ]
  },
  {
   "cell_type": "code",
   "execution_count": 2,
   "metadata": {},
   "outputs": [],
   "source": [
    "seed = 42\n",
    "no_users = 16\n",
    "lambda_logistic = 1e-3"
   ]
  },
  {
   "cell_type": "code",
   "execution_count": 3,
   "metadata": {
    "colab": {
     "base_uri": "https://localhost:8080/",
     "height": 355
    },
    "executionInfo": {
     "elapsed": 551,
     "status": "ok",
     "timestamp": 1654762798119,
     "user": {
      "displayName": "Abdulmomen Gholka",
      "userId": "04436549372656956778"
     },
     "user_tz": -180
    },
    "id": "WKBlmnurkFhZ",
    "outputId": "4b22a1f3-a239-471a-c08c-2accc6fc634a"
   },
   "outputs": [],
   "source": [
    "def random_split(X, y, n, seed):\n",
    "    \"\"\"Equally split data between n agents\"\"\"\n",
    "    rng = np.random.default_rng(seed)\n",
    "    perm = rng.permutation(y.size)\n",
    "    X_split = np.array_split(X[perm], n)  #np.stack to keep as a np array\n",
    "    y_split = np.array_split(y[perm], n)\n",
    "    return X_split, y_split"
   ]
  },
  {
   "cell_type": "code",
   "execution_count": 4,
   "metadata": {},
   "outputs": [],
   "source": [
    "def loss(w, A, b, l2):\n",
    "    z = b * np.dot(A, w)\n",
    "    tmp = np.minimum(z, 0)\n",
    "    loss = np.log((np.exp(tmp) + np.exp(tmp - z)) / np.exp(tmp))\n",
    "    loss_sum = np.sum(loss) / len(b)\n",
    "    reg = (np.linalg.norm(w) ** 2) * l2 / 2\n",
    "    return loss_sum + reg"
   ]
  },
  {
   "cell_type": "code",
   "execution_count": 5,
   "metadata": {},
   "outputs": [],
   "source": [
    "def gradient(w, A, b, l2):\n",
    "    m = A.shape[0]\n",
    "    z = b * np.dot(A, w)\n",
    "    tmp0 = np.minimum(z, 0)\n",
    "    tmp1 = np.exp(tmp0 - z) / ((np.exp(tmp0) + np.exp(tmp0 - z)))\n",
    "    tmp2 = - tmp1 * b\n",
    "    res = np.dot(A.T, tmp2) / m + l2 * w\n",
    "    return res"
   ]
  },
  {
   "cell_type": "code",
   "execution_count": 6,
   "metadata": {},
   "outputs": [],
   "source": [
    "def hessian(w, A, b, l2):\n",
    "    Aw = A @ w\n",
    "    activation = scipy.special.expit(Aw)\n",
    "    weights = activation * (1-activation)\n",
    "    A_weighted = np.multiply(A.T, weights)\n",
    "    return A_weighted@A/A.shape[0] + l2*np.eye(A.shape[1])"
   ]
  },
  {
   "cell_type": "code",
   "execution_count": 7,
   "metadata": {},
   "outputs": [],
   "source": [
    "def generate_graph(n, seed):\n",
    "    \"\"\"Generate a random connected graph\"\"\"\n",
    "    while True:\n",
    "        g = nx.generators.random_graphs.binomial_graph(n, 0.4, seed = seed) \n",
    "        # g = nx.random_geometric_graph(n, 0.4, seed = seed)\n",
    "        #g = nx.grid_2d_graph(int(n/5), int(n/5))\n",
    "        if nx.algorithms.components.is_connected(g):\n",
    "            return g"
   ]
  },
  {
   "cell_type": "code",
   "execution_count": 8,
   "metadata": {},
   "outputs": [],
   "source": [
    "def degrees(A):\n",
    "    \"\"\"Return the degrees of each node of a graph from its adjacency matrix\"\"\"\n",
    "    return np.sum(A, axis=0).reshape(A.shape[0], 1)"
   ]
  },
  {
   "cell_type": "code",
   "execution_count": 9,
   "metadata": {},
   "outputs": [],
   "source": [
    "def metropolis_weights(Adj):\n",
    "    N = np.shape(Adj)[0]\n",
    "    degree = degrees(Adj)\n",
    "    W = np.zeros([N, N])\n",
    "    for i in range(N):\n",
    "        N_i = np.nonzero(Adj[i, :])[1]  # Fixed Neighbors\n",
    "        for j in N_i:\n",
    "            W[i, j] = 1/(1+np.max([degree[i], degree[j]]))\n",
    "        W[i, i] = 1 - np.sum(W[i, :])\n",
    "    return W"
   ]
  },
  {
   "cell_type": "code",
   "execution_count": 10,
   "metadata": {},
   "outputs": [
    {
     "name": "stdout",
     "output_type": "stream",
     "text": [
      "54\n",
      "16\n"
     ]
    }
   ],
   "source": [
    "G = generate_graph(no_users, seed)\n",
    "\n",
    "adjacency_matrix = nx.linalg.graphmatrix.adjacency_matrix(G)\n",
    "comm_matrix = metropolis_weights(adjacency_matrix)\n",
    "\n",
    "print(G.number_of_edges())\n",
    "print(G.number_of_nodes())\n",
    "#nx.draw(G, with_labels=True, font_weight='bold')"
   ]
  },
  {
   "cell_type": "code",
   "execution_count": 16,
   "metadata": {},
   "outputs": [],
   "source": [
    "X = np.load('X.npy')\n",
    "y = np.load('y.npy').ravel()\n",
    "\n",
    "num_feature = X.shape[1] #+ 1 #+1 for bias"
   ]
  },
  {
   "cell_type": "code",
   "execution_count": 17,
   "metadata": {},
   "outputs": [
    {
     "name": "stdout",
     "output_type": "stream",
     "text": [
      "[-1. -1. -1. ...  1. -1. -1.]\n"
     ]
    }
   ],
   "source": [
    "print(y)"
   ]
  },
  {
   "cell_type": "code",
   "execution_count": 18,
   "metadata": {},
   "outputs": [],
   "source": [
    "X, y = random_split(X, y, no_users, seed)\n",
    "\n",
    "theta = [np.zeros(num_feature) for _ in range(no_users)]\n",
    "theta_new = [np.zeros(num_feature) for _ in range(no_users)]\n",
    "\n",
    "\n",
    "d = [np.zeros(num_feature) for _ in range(no_users)] # direction\n",
    "d_new = [np.zeros(num_feature) for _ in range(no_users)] # direction\n",
    "grad_old = [np.zeros(num_feature) for _ in range(no_users)] # direction\n",
    "\n",
    "lamd = [np.zeros(num_feature) for _ in range(no_users)] # dual variables"
   ]
  },
  {
   "cell_type": "code",
   "execution_count": 20,
   "metadata": {},
   "outputs": [],
   "source": [
    "for i in range(no_users):\n",
    "    grad = gradient(theta[i], X[i], y[i], lambda_logistic)\n",
    "    d[i] = grad\n",
    "    d_new[i] = d[i].copy()"
   ]
  },
  {
   "cell_type": "code",
   "execution_count": 21,
   "metadata": {},
   "outputs": [],
   "source": [
    "# Optimal objective function, i.e., f(x*)\n",
    "obj0 = 0.33458104150211826 # a1a dataset"
   ]
  },
  {
   "cell_type": "code",
   "execution_count": 25,
   "metadata": {},
   "outputs": [
    {
     "name": "stdout",
     "output_type": "stream",
     "text": [
      "0.35585514934953805\n",
      "0.35319253234036324\n",
      "0.3505773617142534\n",
      "0.3480087300169596\n",
      "0.3454857442186288\n",
      "0.3430075266433112\n",
      "0.3405732146201816\n",
      "0.3381819604609512\n",
      "0.3358329313336285\n",
      "0.3335253091394908\n",
      "0.3312582903729145\n",
      "0.3290310859730547\n",
      "0.3268429211680763\n",
      "0.3246930353136423\n",
      "0.32258068172655524\n",
      "0.32050512751429455\n",
      "0.31846565340102656\n",
      "0.3164615535505774\n",
      "0.31449213538680015\n",
      "0.3125567194117285\n",
      "0.31065463902187\n",
      "0.3087852403229782\n",
      "0.30694788194360506\n",
      "0.30514193484773106\n",
      "0.3033667821467359\n",
      "0.3016218189109698\n",
      "0.29990645198115734\n",
      "0.2982200997798579\n",
      "0.2965621921231895\n",
      "0.2949321700330088\n",
      "0.29332948554972665\n",
      "0.2917536015459287\n",
      "0.2902039915409544\n",
      "0.2886801395165794\n",
      "0.2871815397339365\n",
      "0.28570769655179457\n",
      "0.2842581242463133\n",
      "0.28283234683237407\n",
      "0.28142989788658584\n",
      "0.2800503203720494\n",
      "0.2786931664649627\n",
      "0.2773579973831361\n",
      "0.27604438321648356\n",
      "0.27475190275954636\n",
      "0.2734801433461031\n",
      "0.2722287006859077\n",
      "0.2709971787036\n",
      "0.2697851893798175\n",
      "0.26859235259454356\n",
      "0.26741829597271355\n",
      "0.26626265473209926\n",
      "0.2651250715334887\n",
      "0.26400519633317326\n",
      "0.26290268623775154\n",
      "0.2618172053612537\n",
      "0.2607484246845883\n",
      "0.25969602191731384\n",
      "0.25865968136172673\n",
      "0.25763909377926314\n",
      "0.25663395625920465\n",
      "0.25564397208967676\n",
      "0.2546688506309283\n",
      "0.25370830719087617\n",
      "0.25276206290289965\n",
      "0.2518298446058664\n",
      "0.2509113847263709\n",
      "0.2500064211631626\n",
      "0.24911469717374474\n",
      "0.2482359612631207\n",
      "0.24736996707466002\n",
      "0.2465164732830643\n",
      "0.2456752434894049\n",
      "0.24484604611820554\n",
      "0.24402865431654347\n",
      "0.24322284585514392\n",
      "0.24242840303143537\n",
      "0.24164511257454174\n",
      "0.24087276555218146\n",
      "0.2401111572794416\n",
      "0.23936008722940366\n",
      "0.23861935894558645\n",
      "0.23788877995618057\n",
      "0.23716816169004135\n",
      "0.23645731939441522\n",
      "0.2357560720543665\n",
      "0.23506424231387552\n",
      "0.23438165639858316\n",
      "0.23370814404014467\n",
      "0.23304353840217268\n",
      "0.23238767600773408\n",
      "0.23174039666837415\n",
      "0.23110154341464123\n",
      "0.23047096242808202\n",
      "0.22984850297467813\n",
      "0.2292340173397011\n",
      "0.2286273607639528\n",
      "0.2280283913813685\n",
      "0.227436970157954\n",
      "0.22685296083203127\n",
      "0.22627622985576407\n",
      "0.22570664633794352\n",
      "0.225144081988001\n",
      "0.22458841106122945\n",
      "0.22403951030518482\n",
      "0.2234972589072461\n",
      "0.22296153844330718\n",
      "0.22243223282757935\n",
      "0.2219092282634802\n",
      "0.22139241319558728\n",
      "0.22088167826263266\n",
      "0.2203769162515174\n",
      "0.21987802205232404\n",
      "0.21938489261430666\n",
      "0.21889742690283626\n",
      "0.2184155258572817\n",
      "0.21793909234980718\n",
      "0.21746803114506524\n",
      "0.21700224886076475\n",
      "0.21654165392909935\n",
      "0.21608615655901203\n",
      "0.2156356686992828\n",
      "0.2151901040024174\n",
      "0.21474937778932218\n",
      "0.21431340701474705\n",
      "0.21388211023348008\n",
      "0.21345540756727582\n",
      "0.21303322067250358\n",
      "0.2126154727084974\n",
      "0.2122020883065942\n",
      "0.21179299353984332\n",
      "0.21138811589337408\n",
      "0.21098738423540525\n",
      "0.21059072878888357\n",
      "0.21019808110373633\n",
      "0.2098093740297255\n",
      "0.20942454168988806\n",
      "0.20904351945455274\n",
      "0.20866624391591598\n",
      "0.20829265286316917\n",
      "0.20792268525816132\n",
      "0.20755628121158803\n",
      "0.20719338195969156\n",
      "0.20683392984146504\n",
      "0.20647786827634546\n",
      "0.20612514174238722\n",
      "0.2057756957549038\n",
      "0.20542947684556884\n",
      "0.20508643254196385\n",
      "0.20474651134756633\n",
      "0.2044096627221635\n",
      "0.2040758370626869\n",
      "0.20374498568445593\n",
      "0.20341706080282068\n",
      "0.20309201551519823\n",
      "0.2027698037834877\n",
      "0.20245038041686508\n",
      "0.20213370105493783\n",
      "0.20181972215126137\n",
      "0.20150840095720252\n",
      "0.20119969550614641\n",
      "0.20089356459803626\n",
      "0.20058996778424082\n",
      "0.20028886535274087\n",
      "0.19999021831362812\n",
      "0.19969398838490932\n",
      "0.1994001379786094\n",
      "0.1991086301871659\n",
      "0.19881942877010989\n",
      "0.19853249814102497\n",
      "0.19824780335478026\n",
      "0.1979653100950291\n",
      "0.1976849846619702\n",
      "0.19740679396036293\n",
      "0.1971307054877927\n",
      "0.19685668732318035\n",
      "0.19658470811553047\n",
      "0.19631473707291208\n",
      "0.1960467439516696\n",
      "0.19578069904585532\n",
      "0.19551657317688093\n",
      "0.19525433768338302\n",
      "0.19499396441129607\n",
      "0.19473542570413221\n",
      "0.19447869439345816\n",
      "0.19422374378956903\n",
      "0.1939705476723535\n",
      "0.19371908028234536\n",
      "0.19346931631195835\n",
      "0.1932212308968993\n",
      "0.1929747996077586\n",
      "0.1927299984417677\n",
      "0.1924868038147291\n",
      "0.19224519255310618\n",
      "0.19200514188627588\n",
      "0.19176662943893724\n",
      "0.1915296332236734\n",
      "0.1912941316336642\n",
      "0.19106010343554541\n",
      "0.19082752776241202\n",
      "0.19059638410696195\n"
     ]
    }
   ],
   "source": [
    "n_iters = 200\n",
    "alpha = 0.06\n",
    "\n",
    "losses_dsgd = []\n",
    "accuracies_dsgd = []\n",
    "op_gap_dsgd = np.zeros(shape=[n_iters])\n",
    "re_dsgd = np.zeros(shape=[n_iters])\n",
    "\n",
    "\n",
    "\n",
    "\n",
    "for iter in range(n_iters):\n",
    "    alpha /= (iter + 1)\n",
    "    for i in range(no_users):\n",
    "        d[i] = d_new[i].copy()\n",
    "        grad = gradient(theta[i], X[i], y[i], lambda_logistic)\n",
    "        grad_old[i] = grad.copy()\n",
    "        w_neighbors_sum = np.zeros(num_feature)\n",
    "        w_neighbors_sum = np.add(w_neighbors_sum, comm_matrix[i,i]*theta[i])\n",
    "        for j in G.neighbors(i):\n",
    "            w_neighbors_sum = np.add(w_neighbors_sum, comm_matrix[i,j]*theta[j])\n",
    "        \n",
    "        theta_new[i] = w_neighbors_sum - alpha * d[i]\n",
    "  \n",
    "    for i in range(no_users):\n",
    "        theta[i] = theta_new[i].copy()\n",
    "        grad = gradient(theta[i], X[i], y[i], lambda_logistic)\n",
    "    \n",
    "        w_neighbors_sum = np.zeros(num_feature)\n",
    "        w_neighbors_sum = np.add(w_neighbors_sum, comm_matrix[i,i]*d[i])\n",
    "        for j in G.neighbors(i):\n",
    "            w_neighbors_sum = np.add(w_neighbors_sum, comm_matrix[i,j]*d[j])\n",
    "        \n",
    "        d_new[i] = w_neighbors_sum + grad - grad_old[i]\n",
    "\n",
    "    \n",
    "    \n",
    "    theta_avg = 1/no_users*sum(theta)\n",
    "    \n",
    "    loss_dsgd = np.mean([loss(theta_avg, X[i], y[i], lambda_logistic) for i in range(no_users)])\n",
    "    losses_dsgd.append(loss_dsgd)\n",
    "  \n",
    "    op_gap_dsgd[iter] = np.abs(losses_dsgd[-1] - obj0)\n",
    "    print(op_gap_dsgd[iter])"
   ]
  },
  {
   "cell_type": "markdown",
   "metadata": {},
   "source": [
    "# Optimality Gap"
   ]
  },
  {
   "cell_type": "code",
   "execution_count": 26,
   "metadata": {},
   "outputs": [
    {
     "data": {
      "image/png": "[encoded data removed]",
      "text/plain": [
       "<Figure size 432x288 with 1 Axes>"
      ]
     },
     "metadata": {
      "needs_background": "light"
     },
     "output_type": "display_data"
    }
   ],
   "source": [
    "import matplotlib.pyplot as plt\n",
    "plt.semilogy(op_gap_dsgd)\n",
    "np.save('op_gap_dsgd', op_gap_dsgd)"
   ]
  },
  {
   "cell_type": "code",
   "execution_count": null,
   "metadata": {},
   "outputs": [],
   "source": []
  }
 ],
 "metadata": {
  "colab": {
   "collapsed_sections": [],
   "name": "DSGD.ipynb",
   "provenance": []
  },
  "kernelspec": {
   "display_name": "Python 3",
   "language": "python",
   "name": "python3"
  },
  "language_info": {
   "codemirror_mode": {
    "name": "ipython",
    "version": 3
   },
   "file_extension": ".py",
   "mimetype": "text/x-python",
   "name": "python",
   "nbconvert_exporter": "python",
   "pygments_lexer": "ipython3",
   "version": "3.8.8"
  }
 },
 "nbformat": 4,
 "nbformat_minor": 4
}
