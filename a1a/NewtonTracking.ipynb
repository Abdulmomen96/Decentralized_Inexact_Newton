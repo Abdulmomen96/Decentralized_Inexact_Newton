{
 "cells": [
  {
   "cell_type": "code",
   "execution_count": 1,
   "metadata": {
    "_cell_guid": "b1076dfc-b9ad-4769-8c92-a6c4dae69d19",
    "_uuid": "8f2839f25d086af736a60e9eeb907d3b93b6e0e5",
    "executionInfo": {
     "elapsed": 261,
     "status": "ok",
     "timestamp": 1655988693385,
     "user": {
      "displayName": "Abdulmomen Gholka",
      "userId": "04436549372656956778"
     },
     "user_tz": -180
    },
    "id": "VYzJgl_mTuOo"
   },
   "outputs": [],
   "source": [
    "import numpy as np # linear algebra\n",
    "import pandas as pd # data processing, CSV file I/O (e.g. pd.read_csv)\n",
    "import tensorflow as tf\n",
    "import os\n",
    "\n",
    "import scipy\n",
    "import networkx as nx\n",
    "\n",
    "from sklearn.linear_model import LogisticRegression\n",
    "from sklearn.metrics import log_loss"
   ]
  },
  {
   "cell_type": "code",
   "execution_count": 2,
   "metadata": {
    "executionInfo": {
     "elapsed": 22,
     "status": "ok",
     "timestamp": 1655988693722,
     "user": {
      "displayName": "Abdulmomen Gholka",
      "userId": "04436549372656956778"
     },
     "user_tz": -180
    },
    "id": "gGG_hMG273NA"
   },
   "outputs": [],
   "source": [
    "seed = 42\n",
    "no_users = 16 \n",
    "lambda_logistic = 1e-3"
   ]
  },
  {
   "cell_type": "code",
   "execution_count": 3,
   "metadata": {
    "executionInfo": {
     "elapsed": 21,
     "status": "ok",
     "timestamp": 1655988693723,
     "user": {
      "displayName": "Abdulmomen Gholka",
      "userId": "04436549372656956778"
     },
     "user_tz": -180
    },
    "id": "llXJPbm473NA"
   },
   "outputs": [],
   "source": [
    "def random_split(X, y, n, seed):\n",
    "    \"\"\"Equally split data between n agents\"\"\"\n",
    "    rng = np.random.default_rng(seed)\n",
    "    perm = rng.permutation(y.size)\n",
    "    X_split = np.array_split(X[perm], n)  #np.stack to keep as a np array\n",
    "    y_split = np.array_split(y[perm], n)\n",
    "    return X_split, y_split"
   ]
  },
  {
   "cell_type": "code",
   "execution_count": 4,
   "metadata": {
    "executionInfo": {
     "elapsed": 21,
     "status": "ok",
     "timestamp": 1655988693724,
     "user": {
      "displayName": "Abdulmomen Gholka",
      "userId": "04436549372656956778"
     },
     "user_tz": -180
    },
    "id": "bfv8mDC673NB"
   },
   "outputs": [],
   "source": [
    "def loss(w, A, b, l2):\n",
    "    z = b * np.dot(A, w)\n",
    "    tmp = np.minimum(z, 0)\n",
    "    loss = np.log((np.exp(tmp) + np.exp(tmp - z)) / np.exp(tmp))\n",
    "    loss_sum = np.sum(loss) / len(b)\n",
    "    reg = (np.linalg.norm(w) ** 2) * l2 / 2\n",
    "    return loss_sum + reg"
   ]
  },
  {
   "cell_type": "code",
   "execution_count": 5,
   "metadata": {
    "executionInfo": {
     "elapsed": 20,
     "status": "ok",
     "timestamp": 1655988693724,
     "user": {
      "displayName": "Abdulmomen Gholka",
      "userId": "04436549372656956778"
     },
     "user_tz": -180
    },
    "id": "SzjloRuM73ND"
   },
   "outputs": [],
   "source": [
    "def gradient(w, A, b, l2):\n",
    "    m = A.shape[0]\n",
    "    z = b * np.dot(A, w)\n",
    "    tmp0 = np.minimum(z, 0)\n",
    "    tmp1 = np.exp(tmp0 - z) / ((np.exp(tmp0) + np.exp(tmp0 - z)))\n",
    "    tmp2 = - tmp1 * b\n",
    "    res = np.dot(A.T, tmp2) / m + l2 * w\n",
    "    return res"
   ]
  },
  {
   "cell_type": "code",
   "execution_count": 6,
   "metadata": {
    "executionInfo": {
     "elapsed": 20,
     "status": "ok",
     "timestamp": 1655988693725,
     "user": {
      "displayName": "Abdulmomen Gholka",
      "userId": "04436549372656956778"
     },
     "user_tz": -180
    },
    "id": "PcbJ1G2N73NE"
   },
   "outputs": [],
   "source": [
    "def hessian(w, A, b, l2):\n",
    "    Aw = A @ w\n",
    "    activation = scipy.special.expit(Aw)\n",
    "    weights = activation * (1-activation)\n",
    "    A_weighted = np.multiply(A.T, weights)\n",
    "    return A_weighted@A/A.shape[0] + l2*np.eye(A.shape[1])"
   ]
  },
  {
   "cell_type": "code",
   "execution_count": 7,
   "metadata": {
    "executionInfo": {
     "elapsed": 19,
     "status": "ok",
     "timestamp": 1655988693725,
     "user": {
      "displayName": "Abdulmomen Gholka",
      "userId": "04436549372656956778"
     },
     "user_tz": -180
    },
    "id": "wrOTy5WI73NF"
   },
   "outputs": [],
   "source": [
    "def generate_graph(n, seed):\n",
    "    \"\"\"Generate a random connected graph\"\"\"\n",
    "    while True:\n",
    "        g = nx.generators.random_graphs.binomial_graph(n, 0.4, seed = seed) \n",
    "        # g = nx.random_geometric_graph(n, 0.4, seed = seed)\n",
    "        #g = nx.grid_2d_graph(int(n/5), int(n/5))\n",
    "        if nx.algorithms.components.is_connected(g):\n",
    "            return g"
   ]
  },
  {
   "cell_type": "code",
   "execution_count": 8,
   "metadata": {
    "executionInfo": {
     "elapsed": 18,
     "status": "ok",
     "timestamp": 1655988693726,
     "user": {
      "displayName": "Abdulmomen Gholka",
      "userId": "04436549372656956778"
     },
     "user_tz": -180
    },
    "id": "6vkn6R_SPOrI"
   },
   "outputs": [],
   "source": [
    "def degrees(A):\n",
    "    \"\"\"Return the degrees of each node of a graph from its adjacency matrix\"\"\"\n",
    "    return np.sum(A, axis=0).reshape(A.shape[0], 1)"
   ]
  },
  {
   "cell_type": "code",
   "execution_count": 9,
   "metadata": {
    "executionInfo": {
     "elapsed": 18,
     "status": "ok",
     "timestamp": 1655988693727,
     "user": {
      "displayName": "Abdulmomen Gholka",
      "userId": "04436549372656956778"
     },
     "user_tz": -180
    },
    "id": "niFVkeJRKYji"
   },
   "outputs": [],
   "source": [
    "def metropolis_weights(Adj):\n",
    "    N = np.shape(Adj)[0]\n",
    "    degree = degrees(Adj)\n",
    "    W = np.zeros([N, N])\n",
    "    for i in range(N):\n",
    "        N_i = np.nonzero(Adj[i, :])[1]  # Fixed Neighbors\n",
    "        for j in N_i:\n",
    "            W[i, j] = 1/(1+np.max([degree[i], degree[j]]))\n",
    "        W[i, i] = 1 - np.sum(W[i, :])\n",
    "    return W"
   ]
  },
  {
   "cell_type": "code",
   "execution_count": 10,
   "metadata": {
    "colab": {
     "base_uri": "https://localhost:8080/",
     "height": 355
    },
    "executionInfo": {
     "elapsed": 703,
     "status": "ok",
     "timestamp": 1655988694413,
     "user": {
      "displayName": "Abdulmomen Gholka",
      "userId": "04436549372656956778"
     },
     "user_tz": -180
    },
    "id": "WKBlmnurkFhZ",
    "outputId": "5cbbf808-819a-47ed-c942-3f050815da2c"
   },
   "outputs": [
    {
     "name": "stdout",
     "output_type": "stream",
     "text": [
      "54\n",
      "16\n"
     ]
    }
   ],
   "source": [
    "G = generate_graph(no_users, seed)\n",
    "adjacency_matrix = nx.linalg.graphmatrix.adjacency_matrix(G)\n",
    "comm_matrix = metropolis_weights(adjacency_matrix)\n",
    "print(G.number_of_edges())\n",
    "print(G.number_of_nodes())\n",
    "#nx.draw(G, with_labels=True, font_weight='bold')"
   ]
  },
  {
   "cell_type": "code",
   "execution_count": 11,
   "metadata": {
    "executionInfo": {
     "elapsed": 8,
     "status": "ok",
     "timestamp": 1655988694414,
     "user": {
      "displayName": "Abdulmomen Gholka",
      "userId": "04436549372656956778"
     },
     "user_tz": -180
    },
    "id": "0poGZyj0TuOx"
   },
   "outputs": [],
   "source": [
    "X = np.load('X.npy')\n",
    "y = np.load('y.npy').ravel()\n",
    "\n",
    "num_feature = X.shape[1] #+ 1 #+1 for bias"
   ]
  },
  {
   "cell_type": "code",
   "execution_count": 12,
   "metadata": {
    "executionInfo": {
     "elapsed": 8,
     "status": "ok",
     "timestamp": 1655988694415,
     "user": {
      "displayName": "Abdulmomen Gholka",
      "userId": "04436549372656956778"
     },
     "user_tz": -180
    },
    "id": "wYHsWycG73NL"
   },
   "outputs": [],
   "source": [
    "X, y = random_split(X, y, no_users, seed)\n",
    "\n",
    "theta_old = [np.zeros(num_feature) for _ in range(no_users)]\n",
    "theta_new = [np.zeros(num_feature) for _ in range(no_users)] # initial model\n",
    "\n",
    "d = [np.zeros(num_feature) for _ in range(no_users)] # direction\n",
    "\n",
    "grad_old = [np.zeros(num_feature) for _ in range(no_users)] # old grads\n",
    "grad_new = [np.zeros(num_feature) for _ in range(no_users)] # new grdas\n",
    "\n",
    "\n",
    "Hess_old = [np.zeros([num_feature, num_feature]) for _ in range(no_users)] # old hessians\n",
    "Hess_new = [np.zeros([num_feature, num_feature]) for _ in range(no_users)] # new hessians\n"
   ]
  },
  {
   "cell_type": "code",
   "execution_count": 13,
   "metadata": {
    "executionInfo": {
     "elapsed": 253,
     "status": "ok",
     "timestamp": 1655988694660,
     "user": {
      "displayName": "Abdulmomen Gholka",
      "userId": "04436549372656956778"
     },
     "user_tz": -180
    },
    "id": "oTUDJDeGo3Xe"
   },
   "outputs": [],
   "source": [
    "# Optimal objective function, i.e., f(x*)\n",
    "obj0 = 0.33458104150211826 # a1a dataset"
   ]
  },
  {
   "cell_type": "code",
   "execution_count": 14,
   "metadata": {
    "executionInfo": {
     "elapsed": 30558,
     "status": "ok",
     "timestamp": 1655988725216,
     "user": {
      "displayName": "Abdulmomen Gholka",
      "userId": "04436549372656956778"
     },
     "user_tz": -180
    },
    "id": "0ga7NIySF_6y"
   },
   "outputs": [],
   "source": [
    "n_iters = 200\n",
    "eps = 0.08 #1.2\n",
    "alpha = 0.08 #1.1\n",
    "losses_newton_tracking = []\n",
    "accuracies_newton_tracking = []\n",
    "op_gap_newton_tracking = np.zeros(shape=[n_iters])\n",
    "\n",
    "# Inintialization of u0\n",
    "for i in range(no_users):\n",
    "  grad_old[i] = gradient(theta_old[i], X[i], y[i], lambda_logistic)\n",
    "  Hess_old[i] = hessian(theta_old[i], X[i], y[i], lambda_logistic)\n",
    "  d[i] = np.matmul(np.linalg.inv(Hess_old[i] + eps * np.eye(num_feature)),grad_old[i])\n",
    "\n",
    "\n",
    "for k in range(n_iters):\n",
    "    for i in range(no_users):\n",
    "        theta_new[i] = theta_old[i] - d[i]\n",
    "        grad_new[i] = gradient(theta_new[i], X[i], y[i], lambda_logistic)\n",
    "        Hess_new[i] = hessian(theta_new[i], X[i], y[i], lambda_logistic)\n",
    "\n",
    "    for i in range(no_users):\n",
    "      theta_old_neighbors_sum = np.zeros(num_feature)\n",
    "      theta_new_neighbors_sum = np.zeros(num_feature)\n",
    "      theta_old_neighbors_sum = np.add(theta_old_neighbors_sum, comm_matrix[i, i] * theta_old[i])\n",
    "      theta_new_neighbors_sum = np.add(theta_new_neighbors_sum, comm_matrix[i, i] * theta_new[i])\n",
    "      for j in G.neighbors(i):\n",
    "          theta_old_neighbors_sum = np.add(theta_old_neighbors_sum, comm_matrix[i, j] * theta_old[j])\n",
    "          theta_new_neighbors_sum = np.add(theta_new_neighbors_sum, comm_matrix[i, j] * theta_new[j])\n",
    "      \n",
    "      # direction update\n",
    "      d[i] = np.matmul(np.linalg.inv(Hess_new[i] + eps * np.eye(num_feature)),\\\n",
    "                                  np.matmul(Hess_old[i] + eps * np.eye(num_feature), d[i]) + \\\n",
    "                                            grad_new[i] - grad_old[i] + 2 * alpha * (theta_new[i] - theta_new_neighbors_sum) - \\\n",
    "                       alpha * (theta_old[i] - theta_old_neighbors_sum))\n",
    "      \n",
    "    \n",
    "        \n",
    "    # Performance Check\n",
    "    theta_avg = 1/no_users*sum(theta_new)\n",
    "    \n",
    "    loss_newton_tracking = np.mean([loss(theta_avg, X[i], y[i], lambda_logistic) for i in range(no_users)])\n",
    "    losses_newton_tracking.append(loss_newton_tracking)\n",
    "    \n",
    "    op_gap_newton_tracking[k] = np.abs(losses_newton_tracking[-1] - obj0)\n",
    "\n",
    "    # Updating the old copies \n",
    "    for i in range(no_users):\n",
    "      theta_old[i] = theta_new[i]\n",
    "      grad_old[i] = grad_new[i]\n",
    "      Hess_old[i] = Hess_new[i]"
   ]
  },
  {
   "cell_type": "markdown",
   "metadata": {
    "id": "jmbBsItL73NM"
   },
   "source": [
    "# Optimality Gap"
   ]
  },
  {
   "cell_type": "code",
   "execution_count": 15,
   "metadata": {
    "colab": {
     "base_uri": "https://localhost:8080/",
     "height": 265
    },
    "executionInfo": {
     "elapsed": 398,
     "status": "ok",
     "timestamp": 1655988725612,
     "user": {
      "displayName": "Abdulmomen Gholka",
      "userId": "04436549372656956778"
     },
     "user_tz": -180
    },
    "id": "Tacuz2qbTuPJ",
    "outputId": "55fab866-8493-4fcb-b3c5-369061be1e4b"
   },
   "outputs": [
    {
     "data": {
      "image/png": "[encoded data removed]",
      "text/plain": [
       "<Figure size 432x288 with 1 Axes>"
      ]
     },
     "metadata": {
      "needs_background": "light"
     },
     "output_type": "display_data"
    }
   ],
   "source": [
    "import matplotlib.pyplot as plt\n",
    "plt.semilogy(op_gap_newton_tracking)\n",
    "np.save('op_gap_newton_tracking', op_gap_newton_tracking)"
   ]
  },
  {
   "cell_type": "code",
   "execution_count": 16,
   "metadata": {},
   "outputs": [
    {
     "data": {
      "text/plain": [
       "0.00037495004332638304"
      ]
     },
     "execution_count": 16,
     "metadata": {},
     "output_type": "execute_result"
    }
   ],
   "source": [
    "op_gap_newton_tracking[75]"
   ]
  },
  {
   "cell_type": "code",
   "execution_count": null,
   "metadata": {},
   "outputs": [],
   "source": []
  }
 ],
 "metadata": {
  "colab": {
   "collapsed_sections": [],
   "name": "NewtonTracking.ipynb",
   "provenance": []
  },
  "gpuClass": "standard",
  "kernelspec": {
   "display_name": "Python 3",
   "language": "python",
   "name": "python3"
  },
  "language_info": {
   "codemirror_mode": {
    "name": "ipython",
    "version": 3
   },
   "file_extension": ".py",
   "mimetype": "text/x-python",
   "name": "python",
   "nbconvert_exporter": "python",
   "pygments_lexer": "ipython3",
   "version": "3.8.8"
  }
 },
 "nbformat": 4,
 "nbformat_minor": 4
}
