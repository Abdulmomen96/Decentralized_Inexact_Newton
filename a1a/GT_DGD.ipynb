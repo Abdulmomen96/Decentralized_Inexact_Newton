{
 "cells": [
  {
   "cell_type": "code",
   "execution_count": 1,
   "metadata": {
    "_cell_guid": "b1076dfc-b9ad-4769-8c92-a6c4dae69d19",
    "_uuid": "8f2839f25d086af736a60e9eeb907d3b93b6e0e5",
    "executionInfo": {
     "elapsed": 312,
     "status": "ok",
     "timestamp": 1654762797257,
     "user": {
      "displayName": "Abdulmomen Gholka",
      "userId": "04436549372656956778"
     },
     "user_tz": -180
    },
    "id": "VYzJgl_mTuOo"
   },
   "outputs": [],
   "source": [
    "import numpy as np # linear algebra\n",
    "import pandas as pd # data processing, CSV file I/O (e.g. pd.read_csv)\n",
    "import tensorflow as tf\n",
    "import os\n",
    "\n",
    "import scipy\n",
    "import networkx as nx\n",
    "\n",
    "from sklearn.linear_model import LogisticRegression\n",
    "from sklearn.metrics import log_loss"
   ]
  },
  {
   "cell_type": "code",
   "execution_count": 2,
   "metadata": {},
   "outputs": [],
   "source": [
    "seed = 42\n",
    "no_users = 16\n",
    "lambda_logistic = 1e-3"
   ]
  },
  {
   "cell_type": "code",
   "execution_count": 3,
   "metadata": {
    "colab": {
     "base_uri": "https://localhost:8080/",
     "height": 355
    },
    "executionInfo": {
     "elapsed": 551,
     "status": "ok",
     "timestamp": 1654762798119,
     "user": {
      "displayName": "Abdulmomen Gholka",
      "userId": "04436549372656956778"
     },
     "user_tz": -180
    },
    "id": "WKBlmnurkFhZ",
    "outputId": "4b22a1f3-a239-471a-c08c-2accc6fc634a"
   },
   "outputs": [],
   "source": [
    "def random_split(X, y, n, seed):\n",
    "    \"\"\"Equally split data between n agents\"\"\"\n",
    "    rng = np.random.default_rng(seed)\n",
    "    perm = rng.permutation(y.size)\n",
    "    X_split = np.array_split(X[perm], n)  #np.stack to keep as a np array\n",
    "    y_split = np.array_split(y[perm], n)\n",
    "    return X_split, y_split"
   ]
  },
  {
   "cell_type": "code",
   "execution_count": 4,
   "metadata": {},
   "outputs": [],
   "source": [
    "def loss(w, A, b, l2):\n",
    "    z = b * np.dot(A, w)\n",
    "    tmp = np.minimum(z, 0)\n",
    "    loss = np.log((np.exp(tmp) + np.exp(tmp - z)) / np.exp(tmp))\n",
    "    loss_sum = np.sum(loss) / len(b)\n",
    "    reg = (np.linalg.norm(w) ** 2) * l2 / 2\n",
    "    return loss_sum + reg"
   ]
  },
  {
   "cell_type": "code",
   "execution_count": 5,
   "metadata": {},
   "outputs": [],
   "source": [
    "def gradient(w, A, b, l2):\n",
    "    m = A.shape[0]\n",
    "    z = b * np.dot(A, w)\n",
    "    tmp0 = np.minimum(z, 0)\n",
    "    tmp1 = np.exp(tmp0 - z) / ((np.exp(tmp0) + np.exp(tmp0 - z)))\n",
    "    tmp2 = - tmp1 * b\n",
    "    res = np.dot(A.T, tmp2) / m + l2 * w\n",
    "    return res"
   ]
  },
  {
   "cell_type": "code",
   "execution_count": 6,
   "metadata": {},
   "outputs": [],
   "source": [
    "def hessian(w, A, b, l2):\n",
    "    Aw = A @ w\n",
    "    activation = scipy.special.expit(Aw)\n",
    "    weights = activation * (1-activation)\n",
    "    A_weighted = np.multiply(A.T, weights)\n",
    "    return A_weighted@A/A.shape[0] + l2*np.eye(A.shape[1])"
   ]
  },
  {
   "cell_type": "code",
   "execution_count": 7,
   "metadata": {},
   "outputs": [],
   "source": [
    "def generate_graph(n, seed):\n",
    "    \"\"\"Generate a random connected graph\"\"\"\n",
    "    while True:\n",
    "        g = nx.generators.random_graphs.binomial_graph(n, 0.4, seed = seed) \n",
    "        # g = nx.random_geometric_graph(n, 0.4, seed = seed)\n",
    "        #g = nx.grid_2d_graph(int(n/5), int(n/5))\n",
    "        if nx.algorithms.components.is_connected(g):\n",
    "            return g"
   ]
  },
  {
   "cell_type": "code",
   "execution_count": 8,
   "metadata": {},
   "outputs": [],
   "source": [
    "def degrees(A):\n",
    "    \"\"\"Return the degrees of each node of a graph from its adjacency matrix\"\"\"\n",
    "    return np.sum(A, axis=0).reshape(A.shape[0], 1)"
   ]
  },
  {
   "cell_type": "code",
   "execution_count": 9,
   "metadata": {},
   "outputs": [],
   "source": [
    "def metropolis_weights(Adj):\n",
    "    N = np.shape(Adj)[0]\n",
    "    degree = degrees(Adj)\n",
    "    W = np.zeros([N, N])\n",
    "    for i in range(N):\n",
    "        N_i = np.nonzero(Adj[i, :])[1]  # Fixed Neighbors\n",
    "        for j in N_i:\n",
    "            W[i, j] = 1/(1+np.max([degree[i], degree[j]]))\n",
    "        W[i, i] = 1 - np.sum(W[i, :])\n",
    "    return W"
   ]
  },
  {
   "cell_type": "code",
   "execution_count": 33,
   "metadata": {},
   "outputs": [
    {
     "name": "stdout",
     "output_type": "stream",
     "text": [
      "54\n",
      "16\n"
     ]
    }
   ],
   "source": [
    "G = generate_graph(no_users, seed)\n",
    "\n",
    "adjacency_matrix = nx.linalg.graphmatrix.adjacency_matrix(G)\n",
    "comm_matrix = metropolis_weights(adjacency_matrix)\n",
    "\n",
    "print(G.number_of_edges())\n",
    "print(G.number_of_nodes())\n",
    "#nx.draw(G, with_labels=True, font_weight='bold')"
   ]
  },
  {
   "cell_type": "code",
   "execution_count": 59,
   "metadata": {},
   "outputs": [],
   "source": [
    "X = np.load('X.npy')\n",
    "y = np.load('y.npy').ravel()\n",
    "\n",
    "num_feature = X.shape[1] #+ 1 #+1 for bias"
   ]
  },
  {
   "cell_type": "code",
   "execution_count": 60,
   "metadata": {},
   "outputs": [
    {
     "name": "stdout",
     "output_type": "stream",
     "text": [
      "[-1. -1. -1. ...  1. -1. -1.]\n"
     ]
    }
   ],
   "source": [
    "print(y)"
   ]
  },
  {
   "cell_type": "code",
   "execution_count": 61,
   "metadata": {},
   "outputs": [],
   "source": [
    "X, y = random_split(X, y, no_users, seed)\n",
    "\n",
    "theta = [np.zeros(num_feature) for _ in range(no_users)]\n",
    "theta_new = [np.zeros(num_feature) for _ in range(no_users)]\n",
    "\n",
    "\n",
    "d = [np.zeros(num_feature) for _ in range(no_users)] # direction\n",
    "d_new = [np.zeros(num_feature) for _ in range(no_users)] # direction\n",
    "grad_old = [np.zeros(num_feature) for _ in range(no_users)] # direction\n",
    "\n",
    "lamd = [np.zeros(num_feature) for _ in range(no_users)] # dual variables"
   ]
  },
  {
   "cell_type": "code",
   "execution_count": 62,
   "metadata": {},
   "outputs": [],
   "source": [
    "for i in range(no_users):\n",
    "    grad = gradient(theta[i], X[i], y[i], lambda_logistic)\n",
    "    d[i] = grad\n",
    "    d_new[i] = d[i].copy()"
   ]
  },
  {
   "cell_type": "code",
   "execution_count": 63,
   "metadata": {},
   "outputs": [],
   "source": [
    "# Optimal objective function, i.e., f(x*)\n",
    "obj0 = 0.33458104150211826 # a1a dataset"
   ]
  },
  {
   "cell_type": "code",
   "execution_count": 66,
   "metadata": {},
   "outputs": [
    {
     "name": "stdout",
     "output_type": "stream",
     "text": [
      "0.05573548022361435\n",
      "0.05503954085339963\n",
      "0.05436202690908448\n",
      "0.05370215193812944\n",
      "0.05305912773278515\n",
      "0.05243225788063771\n",
      "0.0518208408836468\n",
      "0.05122426848969003\n",
      "0.050641911403708495\n",
      "0.05007324046189171\n",
      "0.049517685927508326\n",
      "0.048974789428402776\n",
      "0.048444029397011035\n",
      "0.04792501172218472\n",
      "0.047417252691116574\n",
      "0.04692041771875638\n",
      "0.04643405141263851\n",
      "0.04595787567468129\n",
      "0.045491454364145256\n",
      "0.04503456444487658\n",
      "0.04458678012116285\n",
      "0.04414793357316832\n",
      "0.043717600312149274\n",
      "0.04329566948522273\n",
      "0.04288170845103606\n",
      "0.04247566673874931\n",
      "0.04207709337725091\n",
      "0.04168600347691337\n",
      "0.04130191653111703\n",
      "0.04092492038691281\n",
      "0.04055449243284609\n",
      "0.04019080259178137\n",
      "0.03983327184654856\n",
      "0.03948216400515042\n",
      "0.03913682720193795\n",
      "0.03879763376066819\n",
      "0.038463839919970266\n",
      "0.03813594439387136\n",
      "0.037813089347936535\n",
      "0.037495921507532004\n",
      "0.03718344305717253\n",
      "0.03687647469422439\n",
      "0.036573848294602584\n",
      "0.03627658952383511\n",
      "0.03598332440931046\n",
      "0.035695320430310706\n",
      "0.03541095609829753\n",
      "0.03513178435200809\n",
      "0.03485588733224393\n",
      "0.03458515499419895\n",
      "0.03431731583275793\n",
      "0.0340546575908901\n",
      "0.03379448797732326\n",
      "0.03353956404633324\n",
      "0.033286694006727735\n",
      "0.03303918833455094\n",
      "0.03279326340192218\n",
      "0.03255288202844536\n",
      "0.03231356028309512\n",
      "0.032080029820195366\n",
      "0.03184697866455144\n",
      "0.031620044885936394\n",
      "0.03139293737918686\n",
      "0.031172363949878545\n",
      "0.030950874477355617\n",
      "0.03073644193682895\n",
      "0.030520240932783438\n",
      "0.030311746209342905\n",
      "0.030100493607948475\n",
      "0.02989775064666106\n",
      "0.029691087752865608\n",
      "0.029493930383449773\n",
      "0.029291470041389822\n",
      "0.029099759137668768\n",
      "0.02890107465185837\n",
      "0.028714713109884382\n",
      "0.028519327752236923\n",
      "0.028338288949629198\n",
      "0.028145670717002413\n",
      "0.027970048708924056\n",
      "0.02777962008019802\n",
      "0.027609711764653377\n",
      "0.02742089187240676\n",
      "0.027257319838253802\n",
      "0.02706962481650882\n",
      "0.026913498960886073\n",
      "0.02672672781370411\n",
      "0.026579816485292784\n",
      "0.026394328611897833\n",
      "0.026259162214715637\n",
      "0.026076188836824665\n",
      "0.02595596399079758\n",
      "0.025777789836342102\n",
      "0.02567592541551894\n",
      "0.025505690784441315\n",
      "0.025424975384969573\n",
      "0.02526590873825163\n",
      "0.02520740020065393\n",
      "0.025061582268807225\n",
      "0.025023678415799055\n",
      "0.024890834060226574\n",
      "0.02486901824274662\n",
      "0.02474599988751952\n",
      "0.02473352362223008\n",
      "0.024614858533220763\n",
      "0.02460416236091484\n",
      "0.024483451977705517\n",
      "0.02446776155195801\n",
      "0.02433928581402528\n",
      "0.024313795670735217\n",
      "0.024173675689031393\n",
      "0.02413601318355163\n",
      "0.023982628765794323\n",
      "0.023932644194909536\n",
      "0.023766388951305062\n",
      "0.02370553911548484\n",
      "0.02352820620838153\n",
      "0.023458832125370088\n",
      "0.02327293020482496\n",
      "0.02319763990436091\n",
      "0.0230058318681311\n",
      "0.02292707894636986\n",
      "0.022731814746386803\n",
      "0.022651672264191236\n",
      "0.022455003760946946\n",
      "0.022375087459325094\n",
      "0.022178616419270936\n",
      "0.022100101358592916\n",
      "0.021905007283156475\n",
      "0.02182869118962577\n",
      "0.021635796755693437\n",
      "0.02156217837375235\n",
      "0.021372024963553893\n",
      "0.021301379381098773\n",
      "0.021114297659022396\n",
      "0.0210467403789506\n",
      "0.02086290945609187\n",
      "0.020798446954109262\n",
      "0.020617940728252127\n",
      "0.020556508325194456\n",
      "0.02037933010018539\n",
      "0.020320819238755894\n",
      "0.020146926688047795\n",
      "0.020091203955966475\n",
      "0.019920526620689494\n",
      "0.019867446638832942\n",
      "0.01969989789724863\n",
      "0.019649311799650515\n",
      "0.01948479686832888\n",
      "0.019436557696582313\n",
      "0.01927497885062074\n",
      "0.019228944834487505\n",
      "0.019070204716220118\n",
      "0.019026241133879906\n",
      "0.01887024476955118\n",
      "0.018828224871612675\n",
      "0.01867488082846952\n",
      "0.01863468615803604\n",
      "0.018483907138990285\n",
      "0.01844542747268857\n",
      "0.01829713055011839\n",
      "0.018260263610414218\n",
      "0.018114370234314114\n",
      "0.018079021272354445\n",
      "0.017935457142562172\n",
      "0.017901538456150445\n",
      "0.017760233317529905\n",
      "0.017727663745568556\n",
      "0.017588551144263886\n",
      "0.017557255563477925\n",
      "0.017420272588481278\n",
      "0.017390181427962947\n",
      "0.01725526845303149\n",
      "0.017226317235403743\n",
      "0.017093417670295208\n",
      "0.017065546583915403\n",
      "0.016934606639952443\n",
      "0.016907760143782147\n",
      "0.016778728616200944\n",
      "0.016752855077215745\n",
      "0.016625683145136683\n",
      "0.01660073450709809\n",
      "0.016475375550955407\n",
      "0.01645130703276637\n",
      "0.016327716468444053\n",
      "0.016304486290007303\n",
      "0.016182621418600662\n",
      "0.016160190551988196\n",
      "0.016040010423957807\n",
      "0.01601834236770644\n",
      "0.01589980766014687\n",
      "0.01587886823457635\n",
      "0.01576194114034274\n",
      "0.015741698301913798\n",
      "0.015626342429412465\n",
      "0.015606766102284897\n",
      "0.015492946384816186\n",
      "0.01547400830791923\n",
      "0.01536169092155476\n",
      "0.015343364509630086\n"
     ]
    }
   ],
   "source": [
    "n_iters = 200\n",
    "alpha = 0.4\n",
    "\n",
    "losses_dsgd = []\n",
    "accuracies_dsgd = []\n",
    "op_gap_dsgd = np.zeros(shape=[n_iters])\n",
    "re_dsgd = np.zeros(shape=[n_iters])\n",
    "\n",
    "\n",
    "\n",
    "\n",
    "for iter in range(n_iters):\n",
    "    #alpha /= (iter + 1)\n",
    "    for i in range(no_users):\n",
    "        d[i] = d_new[i].copy()\n",
    "        grad = gradient(theta[i], X[i], y[i], lambda_logistic)\n",
    "        grad_old[i] = grad.copy()\n",
    "        w_neighbors_sum = np.zeros(num_feature)\n",
    "        w_neighbors_sum = np.add(w_neighbors_sum, comm_matrix[i,i]*theta[i])\n",
    "        for j in G.neighbors(i):\n",
    "            w_neighbors_sum = np.add(w_neighbors_sum, comm_matrix[i,j]*theta[j])\n",
    "        \n",
    "        theta_new[i] = w_neighbors_sum - alpha * d[i]\n",
    "  \n",
    "    for i in range(no_users):\n",
    "        theta[i] = theta_new[i].copy()\n",
    "        grad = gradient(theta[i], X[i], y[i], lambda_logistic)\n",
    "    \n",
    "        w_neighbors_sum = np.zeros(num_feature)\n",
    "        w_neighbors_sum = np.add(w_neighbors_sum, comm_matrix[i,i]*d[i])\n",
    "        for j in G.neighbors(i):\n",
    "            w_neighbors_sum = np.add(w_neighbors_sum, comm_matrix[i,j]*d[j])\n",
    "        \n",
    "        d_new[i] = w_neighbors_sum + grad - grad_old[i]\n",
    "\n",
    "    \n",
    "    \n",
    "    theta_avg = 1/no_users*sum(theta)\n",
    "    \n",
    "    loss_dsgd = np.mean([loss(theta_avg, X[i], y[i], lambda_logistic) for i in range(no_users)])\n",
    "    losses_dsgd.append(loss_dsgd)\n",
    "  \n",
    "    op_gap_dsgd[iter] = np.abs(losses_dsgd[-1] - obj0)\n",
    "    print(op_gap_dsgd[iter])"
   ]
  },
  {
   "cell_type": "markdown",
   "metadata": {},
   "source": [
    "# Optimality Gap"
   ]
  },
  {
   "cell_type": "code",
   "execution_count": 67,
   "metadata": {},
   "outputs": [
    {
     "data": {
      "image/png": "[encoded data removed]",
      "text/plain": [
       "<Figure size 432x288 with 1 Axes>"
      ]
     },
     "metadata": {
      "needs_background": "light"
     },
     "output_type": "display_data"
    }
   ],
   "source": [
    "import matplotlib.pyplot as plt\n",
    "plt.semilogy(op_gap_dsgd)\n",
    "np.save('op_gap_gtdgd', op_gap_dsgd)"
   ]
  },
  {
   "cell_type": "code",
   "execution_count": null,
   "metadata": {},
   "outputs": [],
   "source": []
  }
 ],
 "metadata": {
  "colab": {
   "collapsed_sections": [],
   "name": "DSGD.ipynb",
   "provenance": []
  },
  "kernelspec": {
   "display_name": "Python 3",
   "language": "python",
   "name": "python3"
  },
  "language_info": {
   "codemirror_mode": {
    "name": "ipython",
    "version": 3
   },
   "file_extension": ".py",
   "mimetype": "text/x-python",
   "name": "python",
   "nbconvert_exporter": "python",
   "pygments_lexer": "ipython3",
   "version": "3.8.8"
  }
 },
 "nbformat": 4,
 "nbformat_minor": 4
}
