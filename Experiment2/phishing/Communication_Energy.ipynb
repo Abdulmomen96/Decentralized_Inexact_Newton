{
 "cells": [
  {
   "cell_type": "code",
   "execution_count": null,
   "id": "4bd90b48",
   "metadata": {},
   "outputs": [],
   "source": [
    "import numpy as np # linear algebra\n",
    "import pandas as pd # data processing, CSV file I/O (e.g. pd.read_csv)\n",
    "import scipy\n",
    "import networkx as nx"
   ]
  },
  {
   "cell_type": "code",
   "execution_count": null,
   "id": "e004083e",
   "metadata": {},
   "outputs": [],
   "source": [
    "seed = 42\n",
    "no_users = 100\n",
    "lambda_logistic = 1e-3"
   ]
  },
  {
   "cell_type": "code",
   "execution_count": null,
   "id": "081f0fd7",
   "metadata": {},
   "outputs": [],
   "source": [
    "def generate_graph(n, seed):\n",
    "    \"\"\"Generate a random connected graph\"\"\"\n",
    "    while True:\n",
    "        # g = nx.generators.random_graphs.binomial_graph(n, 0.4, seed = seed) \n",
    "        g = nx.random_geometric_graph(n, 0.4, seed = seed)\n",
    "        #g = nx.grid_2d_graph(int(n/5), int(n/5))\n",
    "        if nx.algorithms.components.is_connected(g):\n",
    "            return g"
   ]
  },
  {
   "cell_type": "code",
   "execution_count": null,
   "id": "3ee4d2b7",
   "metadata": {},
   "outputs": [],
   "source": [
    "def degrees(A):\n",
    "    \"\"\"Return the degrees of each node of a graph from its adjacency matrix\"\"\"\n",
    "    return np.sum(A, axis=0).reshape(A.shape[0], 1)"
   ]
  },
  {
   "cell_type": "code",
   "execution_count": null,
   "id": "8bdfcea4",
   "metadata": {},
   "outputs": [],
   "source": [
    "G = generate_graph(no_users, seed)\n",
    "adjacency_matrix = nx.linalg.graphmatrix.adjacency_matrix(G)\n",
    "print(G.number_of_edges())\n",
    "print(G.number_of_nodes())\n",
    "nx.draw(G, with_labels=True, font_weight='bold')"
   ]
  },
  {
   "cell_type": "code",
   "execution_count": null,
   "id": "877364af",
   "metadata": {},
   "outputs": [],
   "source": [
    "dimension = 50 #m\n",
    "x_cor = np.random.uniform(0, dimension, no_users)\n",
    "y_cor = np.random.uniform(0, dimension, no_users)"
   ]
  },
  {
   "cell_type": "code",
   "execution_count": null,
   "id": "ef202950",
   "metadata": {},
   "outputs": [],
   "source": [
    "print(x_cor.shape)"
   ]
  },
  {
   "cell_type": "code",
   "execution_count": null,
   "id": "b0c6a10d",
   "metadata": {},
   "outputs": [],
   "source": [
    "B = 2e6\n",
    "R = 10e6\n",
    "N = 1e-12\n",
    "\n",
    "\n",
    "mont_iter = int(1e5)\n",
    "\n",
    "p_avg = np.zeros(mont_iter)\n",
    "for it in range(mont_iter):\n",
    "    G = generate_graph(no_users, seed)\n",
    "    avg_power = np.zeros(no_users)\n",
    "    for i in range(no_users):\n",
    "        x_c = x_cor[i]\n",
    "        y_c = y_cor[i]\n",
    "        node_deg = no_users\n",
    "        d = np.zeros(node_deg)\n",
    "        p = np.zeros(node_deg)\n",
    "        for j in G.neighbors(i):\n",
    "            d[j] = np.sqrt((x_cor[j] - x_c)**2 + (y_cor[j] - y_c)**2)\n",
    "            p[j] = (d[j] ** 2) * N * B * (2 ** (R / B))\n",
    "        print(np.sum(d) / G.degree(i))\n",
    "        avg_power[i] = np.sum(p) / G.degree(i)\n",
    "    p_avg[it] = np.mean(avg_power)"
   ]
  },
  {
   "cell_type": "code",
   "execution_count": null,
   "id": "2257e8b4",
   "metadata": {},
   "outputs": [],
   "source": [
    "print(avg_power)"
   ]
  },
  {
   "cell_type": "code",
   "execution_count": null,
   "id": "9183cbed",
   "metadata": {},
   "outputs": [],
   "source": []
  },
  {
   "cell_type": "code",
   "execution_count": null,
   "id": "660df1a2",
   "metadata": {},
   "outputs": [],
   "source": []
  }
 ],
 "metadata": {
  "kernelspec": {
   "display_name": "Python 3",
   "language": "python",
   "name": "python3"
  },
  "language_info": {
   "codemirror_mode": {
    "name": "ipython",
    "version": 3
   },
   "file_extension": ".py",
   "mimetype": "text/x-python",
   "name": "python",
   "nbconvert_exporter": "python",
   "pygments_lexer": "ipython3",
   "version": "3.8.8"
  }
 },
 "nbformat": 4,
 "nbformat_minor": 5
}
