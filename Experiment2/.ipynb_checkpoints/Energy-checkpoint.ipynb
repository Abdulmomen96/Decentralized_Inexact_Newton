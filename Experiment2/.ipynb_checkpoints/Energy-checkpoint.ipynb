{
 "cells": [
  {
   "cell_type": "code",
   "execution_count": 1,
   "id": "971012b1",
   "metadata": {},
   "outputs": [],
   "source": [
    "import pandas as pd\n",
    "import numpy as np"
   ]
  },
  {
   "cell_type": "code",
   "execution_count": 45,
   "id": "2bb6e1b0",
   "metadata": {},
   "outputs": [],
   "source": [
    "dgd_df = pd.read_csv(\"dgd_emission.csv\")\n",
    "dnl_df = pd.read_csv(\"dnl_emission.csv\")\n",
    "nt_df = pd.read_csv(\"nt_emission.csv\")\n",
    "nn_df = pd.read_csv(\"nn_emission.csv\")"
   ]
  },
  {
   "cell_type": "code",
   "execution_count": 46,
   "id": "9cce63a0",
   "metadata": {},
   "outputs": [],
   "source": [
    "kwh_J = 3600000"
   ]
  },
  {
   "cell_type": "code",
   "execution_count": 47,
   "id": "69e5c2b0",
   "metadata": {},
   "outputs": [],
   "source": [
    "dgd_cons = dgd_df['power_consumption(kWh)'].mean() * kwh_J / 100\n",
    "dnl_cons = dnl_df['power_consumption(kWh)'].mean() * kwh_J / 100\n",
    "nt_cons = nt_df['power_consumption(kWh)'].mean() * kwh_J / 100\n",
    "nn_cons = nn_df['power_consumption(kWh)'].mean() * kwh_J / 100"
   ]
  },
  {
   "cell_type": "code",
   "execution_count": 48,
   "id": "dcc7784b",
   "metadata": {},
   "outputs": [
    {
     "name": "stdout",
     "output_type": "stream",
     "text": [
      "0.00017053633810081692 0.00020979048478943685 0.0002490920313315428 0.000568640840565081\n"
     ]
    }
   ],
   "source": [
    "print(dgd_cons, dnl_cons, nt_cons, nn_cons)"
   ]
  },
  {
   "cell_type": "code",
   "execution_count": 49,
   "id": "7971ce7f",
   "metadata": {},
   "outputs": [],
   "source": [
    "dgd_comp = dgd_cons * 475 #* 100\n",
    "dnl_comp = dnl_cons * 63 #* 100\n",
    "nt_comp = nt_cons * 113 #* 100\n",
    "nn_comp = nn_cons * 183 #* 100"
   ]
  },
  {
   "cell_type": "code",
   "execution_count": 50,
   "id": "b4a13af2",
   "metadata": {},
   "outputs": [],
   "source": [
    "dgd_comp_co2 = dgd_comp / (kwh_J * 7) * 1000\n",
    "dnl_comp_co2 = dnl_comp / (kwh_J * 7) * 1000\n",
    "nt_comp_co2 = nt_comp / (kwh_J * 7) * 1000\n",
    "nn_comp_co2 = nn_comp / (kwh_J * 7) * 1000"
   ]
  },
  {
   "cell_type": "code",
   "execution_count": 51,
   "id": "f539efa1",
   "metadata": {},
   "outputs": [
    {
     "name": "stdout",
     "output_type": "stream",
     "text": [
      "0.08100476059788804 0.01321680054173452 0.028147399540464337 0.10406127382340982\n"
     ]
    }
   ],
   "source": [
    "print(dgd_comp, dnl_comp, nt_comp, nn_comp)"
   ]
  },
  {
   "cell_type": "code",
   "execution_count": 32,
   "id": "709c66f6",
   "metadata": {},
   "outputs": [
    {
     "name": "stdout",
     "output_type": "stream",
     "text": [
      "3.214474626900319e-06 5.244762119735922e-07 1.1169602992247754e-06 4.129415627913089e-06\n"
     ]
    }
   ],
   "source": [
    "print(dgd_comp_co2, dnl_comp_co2, nt_comp_co2, nn_comp_co2)"
   ]
  },
  {
   "cell_type": "code",
   "execution_count": 33,
   "id": "9eaa11eb",
   "metadata": {},
   "outputs": [],
   "source": [
    "avg_energy_per_round = 213.3582 * 1 / (10e6)"
   ]
  },
  {
   "cell_type": "code",
   "execution_count": 34,
   "id": "0a4cc9f1",
   "metadata": {},
   "outputs": [],
   "source": [
    "eff = 1 / avg_energy_per_round"
   ]
  },
  {
   "cell_type": "code",
   "execution_count": 35,
   "id": "9745096e",
   "metadata": {},
   "outputs": [
    {
     "name": "stdout",
     "output_type": "stream",
     "text": [
      "2.133582e-05\n"
     ]
    }
   ],
   "source": [
    "print(avg_energy_per_round)"
   ]
  },
  {
   "cell_type": "code",
   "execution_count": 36,
   "id": "897c05ab",
   "metadata": {},
   "outputs": [],
   "source": [
    "R = 192985.63\n",
    "Pt = 100e-3"
   ]
  },
  {
   "cell_type": "code",
   "execution_count": 37,
   "id": "463ab9f8",
   "metadata": {},
   "outputs": [],
   "source": [
    "dgd_comm = 475 * 407 * 32 / R * Pt * 100 * 0.4\n",
    "dnl_comm = 63 * 407 * 32 / R * Pt * 100 * 0.4\n",
    "nt_comm = 113 * 407 * 32 / R * Pt * 100 * 0.4\n",
    "nn_comm = 183 * 407 * 32 / R * Pt * 100 * 0.4"
   ]
  },
  {
   "cell_type": "code",
   "execution_count": 38,
   "id": "30cdfb9a",
   "metadata": {},
   "outputs": [],
   "source": [
    "dgd_comm_co2 = 475 * 407 * 32 / R * Pt * 100 * 0.4 / (kwh_J * 7) * 1000 \n",
    "dnl_comm_co2 = 63 * 407 * 32 / R * Pt * 100 * 0.4 / (kwh_J * 7) * 1000 \n",
    "nt_comm_co2 = 113 * 407 * 32 / R * Pt * 100 * 0.4 / (kwh_J * 7) * 1000\n",
    "nn_comm_co2 = 183 * 407 * 32 / R * Pt * 100 * 0.4 / (kwh_J * 7) * 1000"
   ]
  },
  {
   "cell_type": "code",
   "execution_count": 39,
   "id": "1645d710",
   "metadata": {},
   "outputs": [
    {
     "name": "stdout",
     "output_type": "stream",
     "text": [
      "128.22509116352344 17.00669630168837 30.50407431890136 49.400403542999555\n"
     ]
    }
   ],
   "source": [
    "print(dgd_comm, dnl_comm, nt_comm, nn_comm)"
   ]
  },
  {
   "cell_type": "code",
   "execution_count": 40,
   "id": "6d6a9173",
   "metadata": {},
   "outputs": [
    {
     "name": "stdout",
     "output_type": "stream",
     "text": [
      "0.0050882972683937875 0.0006748689008606495 0.001210479139638943 0.001960333473928554\n"
     ]
    }
   ],
   "source": [
    "print(dgd_comm_co2, dnl_comm_co2, nt_comm_co2, nn_comm_co2)"
   ]
  },
  {
   "cell_type": "code",
   "execution_count": 58,
   "id": "fcdc1913",
   "metadata": {},
   "outputs": [
    {
     "data": {
      "text/plain": [
       "0.72842"
      ]
     },
     "execution_count": 58,
     "metadata": {},
     "output_type": "execute_result"
    }
   ],
   "source": [
    "(2.3-0.2) / 0.1 * (0.10406)"
   ]
  },
  {
   "cell_type": "code",
   "execution_count": 42,
   "id": "7a5e5722",
   "metadata": {},
   "outputs": [],
   "source": [
    "dgd_total_co2 = (dgd_comm + dgd_comp) * 1 / 3600000 * 64  \n",
    "dnl_total_co2 = (dnl_comm + dnl_comp) * 1 / 3600000 * 64\n",
    "nt_total_co2 = (nt_comm + nt_comp) * 1 / 3600000 * 64 \n",
    "nn_total_co2 = (nn_comm + nn_comp) * 1 / 3600000 * 64"
   ]
  },
  {
   "cell_type": "code",
   "execution_count": 43,
   "id": "a8c97235",
   "metadata": {},
   "outputs": [
    {
     "name": "stdout",
     "output_type": "stream",
     "text": [
      "0.002280997260873268 0.00030257623292853517 0.0005427950527722991 0.0008800793745212972\n"
     ]
    }
   ],
   "source": [
    "print(dgd_total_co2, dnl_total_co2, nt_total_co2, nn_total_co2)"
   ]
  },
  {
   "cell_type": "code",
   "execution_count": 44,
   "id": "51889a25",
   "metadata": {},
   "outputs": [
    {
     "data": {
      "text/plain": [
       "0.9032714728572098"
      ]
     },
     "execution_count": 44,
     "metadata": {},
     "output_type": "execute_result"
    }
   ],
   "source": [
    "(110 * 32 * avg_energy_per_round + dgd_cons) * 12"
   ]
  },
  {
   "cell_type": "code",
   "execution_count": 142,
   "id": "3471177b",
   "metadata": {},
   "outputs": [
    {
     "data": {
      "text/plain": [
       "2.133582e-05"
      ]
     },
     "execution_count": 142,
     "metadata": {},
     "output_type": "execute_result"
    }
   ],
   "source": [
    "avg_energy_per_round"
   ]
  },
  {
   "cell_type": "code",
   "execution_count": null,
   "id": "df27e075",
   "metadata": {},
   "outputs": [],
   "source": []
  },
  {
   "cell_type": "code",
   "execution_count": null,
   "id": "a0fee113",
   "metadata": {},
   "outputs": [],
   "source": []
  }
 ],
 "metadata": {
  "kernelspec": {
   "display_name": "Python 3",
   "language": "python",
   "name": "python3"
  },
  "language_info": {
   "codemirror_mode": {
    "name": "ipython",
    "version": 3
   },
   "file_extension": ".py",
   "mimetype": "text/x-python",
   "name": "python",
   "nbconvert_exporter": "python",
   "pygments_lexer": "ipython3",
   "version": "3.8.8"
  }
 },
 "nbformat": 4,
 "nbformat_minor": 5
}
