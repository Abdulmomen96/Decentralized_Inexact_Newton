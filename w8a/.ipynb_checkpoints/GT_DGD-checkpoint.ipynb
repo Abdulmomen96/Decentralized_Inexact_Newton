{
 "cells": [
  {
   "cell_type": "code",
   "execution_count": 1,
   "metadata": {
    "_cell_guid": "b1076dfc-b9ad-4769-8c92-a6c4dae69d19",
    "_uuid": "8f2839f25d086af736a60e9eeb907d3b93b6e0e5",
    "executionInfo": {
     "elapsed": 312,
     "status": "ok",
     "timestamp": 1654762797257,
     "user": {
      "displayName": "Abdulmomen Gholka",
      "userId": "04436549372656956778"
     },
     "user_tz": -180
    },
    "id": "VYzJgl_mTuOo"
   },
   "outputs": [],
   "source": [
    "import numpy as np # linear algebra\n",
    "import pandas as pd # data processing, CSV file I/O (e.g. pd.read_csv)\n",
    "import tensorflow as tf\n",
    "import os\n",
    "\n",
    "import scipy\n",
    "import networkx as nx\n",
    "\n",
    "from sklearn.linear_model import LogisticRegression\n",
    "from sklearn.metrics import log_loss"
   ]
  },
  {
   "cell_type": "code",
   "execution_count": 2,
   "metadata": {},
   "outputs": [],
   "source": [
    "seed = 42\n",
    "no_users = 142\n",
    "lambda_logistic = 1e-3"
   ]
  },
  {
   "cell_type": "code",
   "execution_count": 3,
   "metadata": {
    "colab": {
     "base_uri": "https://localhost:8080/",
     "height": 355
    },
    "executionInfo": {
     "elapsed": 551,
     "status": "ok",
     "timestamp": 1654762798119,
     "user": {
      "displayName": "Abdulmomen Gholka",
      "userId": "04436549372656956778"
     },
     "user_tz": -180
    },
    "id": "WKBlmnurkFhZ",
    "outputId": "4b22a1f3-a239-471a-c08c-2accc6fc634a"
   },
   "outputs": [],
   "source": [
    "def random_split(X, y, n, seed):\n",
    "    \"\"\"Equally split data between n agents\"\"\"\n",
    "    rng = np.random.default_rng(seed)\n",
    "    perm = rng.permutation(y.size)\n",
    "    X_split = np.array_split(X[perm], n)  #np.stack to keep as a np array\n",
    "    y_split = np.array_split(y[perm], n)\n",
    "    return X_split, y_split"
   ]
  },
  {
   "cell_type": "code",
   "execution_count": 4,
   "metadata": {},
   "outputs": [],
   "source": [
    "def loss(w, A, b, l2):\n",
    "    z = b * np.dot(A, w)\n",
    "    tmp = np.minimum(z, 0)\n",
    "    loss = np.log((np.exp(tmp) + np.exp(tmp - z)) / np.exp(tmp))\n",
    "    loss_sum = np.sum(loss) / len(b)\n",
    "    reg = (np.linalg.norm(w) ** 2) * l2 / 2\n",
    "    return loss_sum + reg"
   ]
  },
  {
   "cell_type": "code",
   "execution_count": 5,
   "metadata": {},
   "outputs": [],
   "source": [
    "def gradient(w, A, b, l2):\n",
    "    m = A.shape[0]\n",
    "    z = b * np.dot(A, w)\n",
    "    tmp0 = np.minimum(z, 0)\n",
    "    tmp1 = np.exp(tmp0 - z) / ((np.exp(tmp0) + np.exp(tmp0 - z)))\n",
    "    tmp2 = - tmp1 * b\n",
    "    res = np.dot(A.T, tmp2) / m + l2 * w\n",
    "    return res"
   ]
  },
  {
   "cell_type": "code",
   "execution_count": 6,
   "metadata": {},
   "outputs": [],
   "source": [
    "def hessian(w, A, b, l2):\n",
    "    Aw = A @ w\n",
    "    activation = scipy.special.expit(Aw)\n",
    "    weights = activation * (1-activation)\n",
    "    A_weighted = np.multiply(A.T, weights)\n",
    "    return A_weighted@A/A.shape[0] + l2*np.eye(A.shape[1])"
   ]
  },
  {
   "cell_type": "code",
   "execution_count": 7,
   "metadata": {},
   "outputs": [],
   "source": [
    "def generate_graph(n, seed):\n",
    "    \"\"\"Generate a random connected graph\"\"\"\n",
    "    while True:\n",
    "        g = nx.generators.random_graphs.binomial_graph(n, 0.4, seed = seed) \n",
    "        # g = nx.random_geometric_graph(n, 0.4, seed = seed)\n",
    "        #g = nx.grid_2d_graph(int(n/5), int(n/5))\n",
    "        if nx.algorithms.components.is_connected(g):\n",
    "            return g"
   ]
  },
  {
   "cell_type": "code",
   "execution_count": 8,
   "metadata": {},
   "outputs": [],
   "source": [
    "def degrees(A):\n",
    "    \"\"\"Return the degrees of each node of a graph from its adjacency matrix\"\"\"\n",
    "    return np.sum(A, axis=0).reshape(A.shape[0], 1)"
   ]
  },
  {
   "cell_type": "code",
   "execution_count": 9,
   "metadata": {},
   "outputs": [],
   "source": [
    "def metropolis_weights(Adj):\n",
    "    N = np.shape(Adj)[0]\n",
    "    degree = degrees(Adj)\n",
    "    W = np.zeros([N, N])\n",
    "    for i in range(N):\n",
    "        N_i = np.nonzero(Adj[i, :])[1]  # Fixed Neighbors\n",
    "        for j in N_i:\n",
    "            W[i, j] = 1/(1+np.max([degree[i], degree[j]]))\n",
    "        W[i, i] = 1 - np.sum(W[i, :])\n",
    "    return W"
   ]
  },
  {
   "cell_type": "code",
   "execution_count": 10,
   "metadata": {},
   "outputs": [
    {
     "name": "stdout",
     "output_type": "stream",
     "text": [
      "3996\n",
      "142\n"
     ]
    }
   ],
   "source": [
    "G = generate_graph(no_users, seed)\n",
    "\n",
    "adjacency_matrix = nx.linalg.graphmatrix.adjacency_matrix(G)\n",
    "comm_matrix = metropolis_weights(adjacency_matrix)\n",
    "\n",
    "print(G.number_of_edges())\n",
    "print(G.number_of_nodes())\n",
    "#nx.draw(G, with_labels=True, font_weight='bold')"
   ]
  },
  {
   "cell_type": "code",
   "execution_count": 11,
   "metadata": {},
   "outputs": [],
   "source": [
    "X = np.load('X.npy')\n",
    "y = np.load('y.npy').ravel()\n",
    "\n",
    "num_feature = X.shape[1] #+ 1 #+1 for bias"
   ]
  },
  {
   "cell_type": "code",
   "execution_count": 12,
   "metadata": {},
   "outputs": [
    {
     "name": "stdout",
     "output_type": "stream",
     "text": [
      "[-1. -1. -1. ... -1. -1. -1.]\n"
     ]
    }
   ],
   "source": [
    "print(y)"
   ]
  },
  {
   "cell_type": "code",
   "execution_count": 13,
   "metadata": {},
   "outputs": [],
   "source": [
    "X, y = random_split(X, y, no_users, seed)\n",
    "\n",
    "theta = [np.zeros(num_feature) for _ in range(no_users)]\n",
    "theta_new = [np.zeros(num_feature) for _ in range(no_users)]\n",
    "\n",
    "\n",
    "d = [np.zeros(num_feature) for _ in range(no_users)] # direction\n",
    "d_new = [np.zeros(num_feature) for _ in range(no_users)] # direction\n",
    "grad_old = [np.zeros(num_feature) for _ in range(no_users)] # direction\n",
    "\n",
    "lamd = [np.zeros(num_feature) for _ in range(no_users)] # dual variables"
   ]
  },
  {
   "cell_type": "code",
   "execution_count": 14,
   "metadata": {},
   "outputs": [],
   "source": [
    "for i in range(no_users):\n",
    "    grad = gradient(theta[i], X[i], y[i], lambda_logistic)\n",
    "    d[i] = grad\n",
    "    d_new[i] = d[i].copy()"
   ]
  },
  {
   "cell_type": "code",
   "execution_count": 15,
   "metadata": {},
   "outputs": [],
   "source": [
    "# Optimal objective function, i.e., f(x*)\n",
    "obj0 = 0.1834730582750861 # a1a dataset"
   ]
  },
  {
   "cell_type": "code",
   "execution_count": 16,
   "metadata": {},
   "outputs": [
    {
     "name": "stdout",
     "output_type": "stream",
     "text": [
      "0.3545729185443073\n",
      "0.28466243870191693\n",
      "0.24255015570298166\n",
      "0.2138634975975927\n",
      "0.19260972230131118\n",
      "0.17604819766157764\n",
      "0.16266807799863442\n",
      "0.15157252315528075\n",
      "0.14218413742340902\n",
      "0.1341126704847857\n",
      "0.12708260067872357\n",
      "0.12089298829056044\n",
      "0.11539319500062273\n",
      "0.11046771533930566\n",
      "0.10602626327997017\n",
      "0.10199709551911573\n",
      "0.09832238286719885\n",
      "0.09495492436520092\n",
      "0.09185576489701025\n",
      "0.08899243571123955\n",
      "0.08633763354748109\n",
      "0.08386821443176196\n",
      "0.08156441705382772\n",
      "0.07940925618942762\n",
      "0.07738804380348235\n",
      "0.07548800722094484\n",
      "0.07369798193360783\n",
      "0.0720081623945647\n",
      "0.07040989829891175\n",
      "0.06889552686133615\n",
      "0.06745823381538518\n",
      "0.06609193750489376\n",
      "0.06479119167384131\n",
      "0.06355110349779372\n",
      "0.06236726411672047\n",
      "0.06123568948172631\n",
      "0.06015276975791112\n",
      "0.05911522586205131\n",
      "0.058120071979100796\n",
      "0.0571645831120797\n",
      "0.05624626688806736\n",
      "0.05536283897807767\n",
      "0.05451220159768222\n",
      "0.05369242464381446\n",
      "0.05290172909545962\n",
      "0.05213847236518768\n",
      "0.05140113533728263\n",
      "0.05068831086858866\n",
      "0.049998693561714075\n",
      "0.04933107064819173\n",
      "0.04868431384259039\n",
      "0.04805737204822688\n",
      "0.04744926481169873\n",
      "0.04685907643746945\n",
      "0.04628595068562913\n",
      "0.04572908598607328\n",
      "0.04518773111098384\n",
      "0.04466118125488777\n",
      "0.044148774477922564\n",
      "0.04364988847340112\n",
      "0.04316393762548204\n",
      "0.042690370326835675\n",
      "0.042228666529730424\n",
      "0.04177833550704016\n",
      "0.04133891380235413\n",
      "0.04090996335070529\n",
      "0.0404910697534836\n",
      "0.040081840692891\n",
      "0.03968190447287254\n",
      "0.03929090867484289\n",
      "0.03890851891775171\n",
      "0.03853441771310939\n",
      "0.03816830340655247\n",
      "0.03780988919837164\n",
      "0.037458902236181923\n",
      "0.037115082773577335\n",
      "0.03677818338921404\n",
      "0.036447968261292096\n",
      "0.036124212492884\n",
      "0.03580670148398071\n",
      "0.035495230346507395\n",
      "0.03518960335890209\n",
      "0.034889633457156566\n",
      "0.03459514175949471\n",
      "0.0343059571221134\n",
      "0.03402191572363192\n",
      "0.03374286067610133\n",
      "0.0334686416606059\n",
      "0.033199114585655165\n",
      "0.032934141266714595\n",
      "0.03267358912535892\n",
      "0.0324173309066563\n",
      "0.03216524441350185\n",
      "0.031917212256724004\n",
      "0.03167312161987729\n",
      "0.03143286403772208\n",
      "0.031196335187467894\n",
      "0.03096343469192811\n",
      "0.030734065933799376\n",
      "0.03050813588033538\n",
      "0.030285554917743263\n",
      "0.030066236694675674\n",
      "0.02985009797424165\n",
      "0.029637058493997448\n",
      "0.02942704083342046\n",
      "0.029219970288400954\n",
      "0.02901577475232306\n",
      "0.028814384603333465\n",
      "0.028615732597423893\n",
      "0.02841975376698233\n",
      "0.028226385324487263\n",
      "0.02803556657104303\n",
      "0.027847238809476094\n",
      "0.02766134526172659\n",
      "0.027477830990291358\n",
      "0.027296642823487316\n",
      "0.027117729284320102\n",
      "0.026941040522757392\n",
      "0.02676652825121728\n",
      "0.02659414568309615\n",
      "0.026423847474168954\n",
      "0.02625558966670824\n",
      "0.026089329636174163\n",
      "0.025925026040340582\n",
      "0.02576263877072621\n",
      "0.025602128906212357\n",
      "0.02544345866873124\n",
      "0.025286591380919793\n",
      "0.02513149142563656\n",
      "0.024978124207248126\n",
      "0.024826456114594914\n",
      "0.024676454485552418\n",
      "0.024528087573108315\n",
      "0.024381324512880526\n",
      "0.024236135292005218\n",
      "0.024092490719328924\n",
      "0.02395036239684012\n",
      "0.02380972269228196\n",
      "0.023670544712888986\n",
      "0.023532802280195136\n",
      "0.023396469905862027\n",
      "0.02326152276848001\n",
      "0.023127936691296674\n",
      "0.022995688120830388\n",
      "0.022864754106327545\n",
      "0.022735112280025893\n",
      "0.0226067408381867\n",
      "0.022479618522861455\n",
      "0.02235372460436086\n",
      "0.022229038864393452\n",
      "0.022105541579846122\n",
      "0.021983213507176913\n",
      "0.021862035867394075\n",
      "0.021741990331595712\n",
      "0.021623059007046252\n",
      "0.02150522442376654\n",
      "0.02138846952161519\n",
      "0.02127277763784155\n",
      "0.021158132495089216\n",
      "0.021044518189832412\n",
      "0.020931919181226027\n",
      "0.02082032028035366\n",
      "0.020709706639855663\n",
      "0.02060006374392334\n",
      "0.020491377398643013\n",
      "0.020383633722676875\n",
      "0.02027681913826651\n",
      "0.020170920362546085\n",
      "0.020065924399153834\n",
      "0.019961818530128683\n",
      "0.019858590308082097\n",
      "0.019756227548633737\n",
      "0.01965471832310034\n",
      "0.01955405095142912\n",
      "0.019454213995365233\n",
      "0.01935519625184498\n",
      "0.019256986746605864\n",
      "0.01915957472800528\n",
      "0.01906294966104033\n",
      "0.01896710122156084\n",
      "0.018872019290668535\n",
      "0.018777693949295543\n",
      "0.01868411547295551\n",
      "0.018591274326660967\n",
      "0.018499161160000888\n",
      "0.018407766802372855\n",
      "0.018317082258364065\n",
      "0.018227098703275407\n",
      "0.018137807478784324\n",
      "0.018049200088741085\n",
      "0.017961268195093055\n",
      "0.01787400361393432\n",
      "0.017787398311673835\n",
      "0.017701444401320043\n",
      "0.017616134138876527\n",
      "0.017531459919845893\n",
      "0.017447414275836848\n",
      "0.0173639898712728\n",
      "0.01728117950019631\n",
      "0.01719897608316817\n"
     ]
    }
   ],
   "source": [
    "n_iters = 200\n",
    "alpha = 0.6\n",
    "\n",
    "losses_dsgd = []\n",
    "accuracies_dsgd = []\n",
    "op_gap_dsgd = np.zeros(shape=[n_iters])\n",
    "re_dsgd = np.zeros(shape=[n_iters])\n",
    "\n",
    "\n",
    "\n",
    "\n",
    "for iter in range(n_iters):\n",
    "    #alpha /= (iter + 1)\n",
    "    for i in range(no_users):\n",
    "        d[i] = d_new[i].copy()\n",
    "        grad = gradient(theta[i], X[i], y[i], lambda_logistic)\n",
    "        grad_old[i] = grad.copy()\n",
    "        w_neighbors_sum = np.zeros(num_feature)\n",
    "        w_neighbors_sum = np.add(w_neighbors_sum, comm_matrix[i,i]*theta[i])\n",
    "        for j in G.neighbors(i):\n",
    "            w_neighbors_sum = np.add(w_neighbors_sum, comm_matrix[i,j]*theta[j])\n",
    "        \n",
    "        theta_new[i] = w_neighbors_sum - alpha * d[i]\n",
    "  \n",
    "    for i in range(no_users):\n",
    "        theta[i] = theta_new[i].copy()\n",
    "        grad = gradient(theta[i], X[i], y[i], lambda_logistic)\n",
    "    \n",
    "        w_neighbors_sum = np.zeros(num_feature)\n",
    "        w_neighbors_sum = np.add(w_neighbors_sum, comm_matrix[i,i]*d[i])\n",
    "        for j in G.neighbors(i):\n",
    "            w_neighbors_sum = np.add(w_neighbors_sum, comm_matrix[i,j]*d[j])\n",
    "        \n",
    "        d_new[i] = w_neighbors_sum + grad - grad_old[i]\n",
    "\n",
    "    \n",
    "    \n",
    "    theta_avg = 1/no_users*sum(theta)\n",
    "    \n",
    "    loss_dsgd = np.mean([loss(theta_avg, X[i], y[i], lambda_logistic) for i in range(no_users)])\n",
    "    losses_dsgd.append(loss_dsgd)\n",
    "  \n",
    "    op_gap_dsgd[iter] = np.abs(losses_dsgd[-1] - obj0)\n",
    "    print(op_gap_dsgd[iter])"
   ]
  },
  {
   "cell_type": "markdown",
   "metadata": {},
   "source": [
    "# Optimality Gap"
   ]
  },
  {
   "cell_type": "code",
   "execution_count": 17,
   "metadata": {},
   "outputs": [
    {
     "data": {
      "image/png": "[encoded data removed]",
      "text/plain": [
       "<Figure size 432x288 with 1 Axes>"
      ]
     },
     "metadata": {
      "needs_background": "light"
     },
     "output_type": "display_data"
    }
   ],
   "source": [
    "import matplotlib.pyplot as plt\n",
    "plt.semilogy(op_gap_dsgd)\n",
    "np.save('op_gap_gtdgd', op_gap_dsgd)"
   ]
  },
  {
   "cell_type": "code",
   "execution_count": null,
   "metadata": {},
   "outputs": [],
   "source": []
  }
 ],
 "metadata": {
  "colab": {
   "collapsed_sections": [],
   "name": "DSGD.ipynb",
   "provenance": []
  },
  "kernelspec": {
   "display_name": "Python 3",
   "language": "python",
   "name": "python3"
  },
  "language_info": {
   "codemirror_mode": {
    "name": "ipython",
    "version": 3
   },
   "file_extension": ".py",
   "mimetype": "text/x-python",
   "name": "python",
   "nbconvert_exporter": "python",
   "pygments_lexer": "ipython3",
   "version": "3.8.8"
  }
 },
 "nbformat": 4,
 "nbformat_minor": 4
}
