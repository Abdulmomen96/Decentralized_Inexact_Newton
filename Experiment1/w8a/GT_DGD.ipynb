{
 "cells": [
  {
   "cell_type": "code",
   "execution_count": 1,
   "metadata": {
    "_cell_guid": "b1076dfc-b9ad-4769-8c92-a6c4dae69d19",
    "_uuid": "8f2839f25d086af736a60e9eeb907d3b93b6e0e5",
    "executionInfo": {
     "elapsed": 312,
     "status": "ok",
     "timestamp": 1654762797257,
     "user": {
      "displayName": "Abdulmomen Gholka",
      "userId": "04436549372656956778"
     },
     "user_tz": -180
    },
    "id": "VYzJgl_mTuOo"
   },
   "outputs": [],
   "source": [
    "import numpy as np # linear algebra\n",
    "import pandas as pd # data processing, CSV file I/O (e.g. pd.read_csv)\n",
    "import tensorflow as tf\n",
    "import os\n",
    "\n",
    "import scipy\n",
    "import networkx as nx\n",
    "\n",
    "from sklearn.linear_model import LogisticRegression\n",
    "from sklearn.metrics import log_loss"
   ]
  },
  {
   "cell_type": "code",
   "execution_count": 2,
   "metadata": {},
   "outputs": [],
   "source": [
    "seed = 42\n",
    "no_users = 142\n",
    "lambda_logistic = 1e-3"
   ]
  },
  {
   "cell_type": "code",
   "execution_count": 3,
   "metadata": {
    "colab": {
     "base_uri": "https://localhost:8080/",
     "height": 355
    },
    "executionInfo": {
     "elapsed": 551,
     "status": "ok",
     "timestamp": 1654762798119,
     "user": {
      "displayName": "Abdulmomen Gholka",
      "userId": "04436549372656956778"
     },
     "user_tz": -180
    },
    "id": "WKBlmnurkFhZ",
    "outputId": "4b22a1f3-a239-471a-c08c-2accc6fc634a"
   },
   "outputs": [],
   "source": [
    "def random_split(X, y, n, seed):\n",
    "    \"\"\"Equally split data between n agents\"\"\"\n",
    "    rng = np.random.default_rng(seed)\n",
    "    perm = rng.permutation(y.size)\n",
    "    X_split = np.array_split(X[perm], n)  #np.stack to keep as a np array\n",
    "    y_split = np.array_split(y[perm], n)\n",
    "    return X_split, y_split"
   ]
  },
  {
   "cell_type": "code",
   "execution_count": 4,
   "metadata": {},
   "outputs": [],
   "source": [
    "def loss(w, A, b, l2):\n",
    "    z = b * np.dot(A, w)\n",
    "    tmp = np.minimum(z, 0)\n",
    "    loss = np.log((np.exp(tmp) + np.exp(tmp - z)) / np.exp(tmp))\n",
    "    loss_sum = np.sum(loss) / len(b)\n",
    "    reg = (np.linalg.norm(w) ** 2) * l2 / 2\n",
    "    return loss_sum + reg"
   ]
  },
  {
   "cell_type": "code",
   "execution_count": 5,
   "metadata": {},
   "outputs": [],
   "source": [
    "def gradient(w, A, b, l2):\n",
    "    m = A.shape[0]\n",
    "    z = b * np.dot(A, w)\n",
    "    tmp0 = np.minimum(z, 0)\n",
    "    tmp1 = np.exp(tmp0 - z) / ((np.exp(tmp0) + np.exp(tmp0 - z)))\n",
    "    tmp2 = - tmp1 * b\n",
    "    res = np.dot(A.T, tmp2) / m + l2 * w\n",
    "    return res"
   ]
  },
  {
   "cell_type": "code",
   "execution_count": 6,
   "metadata": {},
   "outputs": [],
   "source": [
    "def hessian(w, A, b, l2):\n",
    "    Aw = A @ w\n",
    "    activation = scipy.special.expit(Aw)\n",
    "    weights = activation * (1-activation)\n",
    "    A_weighted = np.multiply(A.T, weights)\n",
    "    return A_weighted@A/A.shape[0] + l2*np.eye(A.shape[1])"
   ]
  },
  {
   "cell_type": "code",
   "execution_count": 7,
   "metadata": {},
   "outputs": [],
   "source": [
    "def generate_graph(n, seed):\n",
    "    \"\"\"Generate a random connected graph\"\"\"\n",
    "    while True:\n",
    "        g = nx.generators.random_graphs.binomial_graph(n, 0.4, seed = seed) \n",
    "        # g = nx.random_geometric_graph(n, 0.4, seed = seed)\n",
    "        #g = nx.grid_2d_graph(int(n/5), int(n/5))\n",
    "        if nx.algorithms.components.is_connected(g):\n",
    "            return g"
   ]
  },
  {
   "cell_type": "code",
   "execution_count": 8,
   "metadata": {},
   "outputs": [],
   "source": [
    "def degrees(A):\n",
    "    \"\"\"Return the degrees of each node of a graph from its adjacency matrix\"\"\"\n",
    "    return np.sum(A, axis=0).reshape(A.shape[0], 1)"
   ]
  },
  {
   "cell_type": "code",
   "execution_count": 9,
   "metadata": {},
   "outputs": [],
   "source": [
    "def metropolis_weights(Adj):\n",
    "    N = np.shape(Adj)[0]\n",
    "    degree = degrees(Adj)\n",
    "    W = np.zeros([N, N])\n",
    "    for i in range(N):\n",
    "        N_i = np.nonzero(Adj[i, :])[1]  # Fixed Neighbors\n",
    "        for j in N_i:\n",
    "            W[i, j] = 1/(1+np.max([degree[i], degree[j]]))\n",
    "        W[i, i] = 1 - np.sum(W[i, :])\n",
    "    return W"
   ]
  },
  {
   "cell_type": "code",
   "execution_count": 10,
   "metadata": {},
   "outputs": [
    {
     "name": "stdout",
     "output_type": "stream",
     "text": [
      "3996\n",
      "142\n"
     ]
    }
   ],
   "source": [
    "G = generate_graph(no_users, seed)\n",
    "\n",
    "adjacency_matrix = nx.linalg.graphmatrix.adjacency_matrix(G)\n",
    "comm_matrix = metropolis_weights(adjacency_matrix)\n",
    "\n",
    "print(G.number_of_edges())\n",
    "print(G.number_of_nodes())\n",
    "#nx.draw(G, with_labels=True, font_weight='bold')"
   ]
  },
  {
   "cell_type": "code",
   "execution_count": 11,
   "metadata": {},
   "outputs": [],
   "source": [
    "X = np.load('X.npy')\n",
    "y = np.load('y.npy').ravel()\n",
    "\n",
    "num_feature = X.shape[1] #+ 1 #+1 for bias"
   ]
  },
  {
   "cell_type": "code",
   "execution_count": 12,
   "metadata": {},
   "outputs": [
    {
     "name": "stdout",
     "output_type": "stream",
     "text": [
      "[-1. -1. -1. ... -1. -1. -1.]\n"
     ]
    }
   ],
   "source": [
    "print(y)"
   ]
  },
  {
   "cell_type": "code",
   "execution_count": 13,
   "metadata": {},
   "outputs": [],
   "source": [
    "X, y = random_split(X, y, no_users, seed)\n",
    "\n",
    "theta = [np.zeros(num_feature) for _ in range(no_users)]\n",
    "theta_new = [np.zeros(num_feature) for _ in range(no_users)]\n",
    "\n",
    "\n",
    "d = [np.zeros(num_feature) for _ in range(no_users)] # direction\n",
    "d_new = [np.zeros(num_feature) for _ in range(no_users)] # direction\n",
    "grad_old = [np.zeros(num_feature) for _ in range(no_users)] # direction\n",
    "\n",
    "lamd = [np.zeros(num_feature) for _ in range(no_users)] # dual variables"
   ]
  },
  {
   "cell_type": "code",
   "execution_count": 14,
   "metadata": {},
   "outputs": [],
   "source": [
    "for i in range(no_users):\n",
    "    grad = gradient(theta[i], X[i], y[i], lambda_logistic)\n",
    "    d[i] = grad\n",
    "    d_new[i] = d[i].copy()"
   ]
  },
  {
   "cell_type": "code",
   "execution_count": 15,
   "metadata": {},
   "outputs": [],
   "source": [
    "# Optimal objective function, i.e., f(x*)\n",
    "obj0 = 0.1834730582750861 # a1a dataset"
   ]
  },
  {
   "cell_type": "code",
   "execution_count": 16,
   "metadata": {},
   "outputs": [
    {
     "name": "stdout",
     "output_type": "stream",
     "text": [
      "0.2992761269997604\n",
      "0.23298539844812471\n",
      "0.19534143714160912\n",
      "0.17048864914156864\n",
      "0.15237991747014662\n",
      "0.13845065391824135\n",
      "0.12731361230125698\n",
      "0.11816077184183688\n",
      "0.11047667986419235\n",
      "0.10391604997699982\n",
      "0.09823688450488516\n",
      "0.09326392682678097\n",
      "0.08886666455854131\n",
      "0.0849456606453785\n",
      "0.08142366438633347\n",
      "0.07823964934459449\n",
      "0.07534469955449952\n",
      "0.0726991016493862\n",
      "0.07027024617504518\n",
      "0.06803108448997552\n",
      "0.06595897550554489\n",
      "0.0640348110063649\n",
      "0.06224234345251589\n",
      "0.06056766316893683\n",
      "0.058998787273053244\n",
      "0.0575253332241229\n",
      "0.05613825719332757\n",
      "0.05482964260896395\n",
      "0.05359252791692673\n",
      "0.05242076526560835\n",
      "0.05130890378026701\n",
      "0.05025209254117455\n",
      "0.04924599946478381\n",
      "0.04828674310714523\n",
      "0.047370835034107994\n",
      "0.04649513088369789\n",
      "0.04565678861875125\n",
      "0.04485323275888037\n",
      "0.04408212360964461\n",
      "0.04334133068788065\n",
      "0.04262890968635563\n",
      "0.041943082436432105\n",
      "0.041282219420496424\n",
      "0.04064482446127321\n",
      "0.040029521276496005\n",
      "0.039435041637579965\n",
      "0.038860214912172536\n",
      "0.038303958804479704\n",
      "0.03776527113546327\n",
      "0.037243222528464404\n",
      "0.036736949885406434\n",
      "0.03624565055515522\n",
      "0.035768577109439204\n",
      "0.03530503265339441\n",
      "0.03485436660768354\n",
      "0.03441597090752996\n",
      "0.03398927657116227\n",
      "0.03357375059627657\n",
      "0.03316889314836327\n",
      "0.03277423500924703\n",
      "0.03238933525806581\n",
      "0.032013779160267763\n",
      "0.03164717624310187\n",
      "0.0312891585385989\n",
      "0.030939378977226734\n",
      "0.030597509917314136\n",
      "0.030263241797004792\n",
      "0.02993628189696365\n",
      "0.029616353203337303\n",
      "0.029303193361597063\n",
      "0.0289965537128844\n",
      "0.028696198405352064\n",
      "0.028401903573768345\n",
      "0.028113456581334267\n",
      "0.027830655318272557\n",
      "0.027553307552283662\n",
      "0.027281230326446\n",
      "0.02701424940056177\n",
      "0.02675219873233417\n",
      "0.026494919995100175\n",
      "0.02624226212914868\n",
      "0.025994080923926938\n",
      "0.02575023862868367\n",
      "0.025510603589317588\n",
      "0.0252750499093973\n",
      "0.025043457133498703\n",
      "0.02481570995116661\n",
      "0.024591697919951472\n",
      "0.02437131520610561\n",
      "0.024154460341641648\n",
      "0.02394103599656275\n",
      "0.023730948765174203\n",
      "0.023524108965472718\n",
      "0.023320430450692153\n",
      "0.023119830432157207\n",
      "0.0229222293126633\n",
      "0.022727550529663215\n",
      "0.02253572040759569\n",
      "0.022346668018742133\n",
      "0.022160325052044988\n",
      "0.021976625689363455\n",
      "0.02179550648868095\n",
      "0.02161690627381535\n",
      "0.021440766030215302\n",
      "0.02126702880645623\n",
      "0.021095639621077245\n",
      "0.020926545374426342\n",
      "0.020759694765203618\n",
      "0.02059503821141509\n",
      "0.020432527775468723\n",
      "0.02027211709316354\n",
      "0.02011376130633835\n",
      "0.01995741699896414\n",
      "0.019803042136477128\n",
      "0.01965059600816374\n",
      "0.019500039172421074\n",
      "0.019351333404727944\n",
      "0.019204441648171616\n",
      "0.01905932796638682\n",
      "0.018915957498771258\n",
      "0.018774296417851\n",
      "0.018634311888677535\n",
      "0.01849597203014447\n",
      "0.018359245878120323\n",
      "0.018224103350298754\n",
      "0.018090515212674907\n",
      "0.017958453047559886\n",
      "0.0178278892230547\n",
      "0.017698796863904076\n",
      "0.017571149823661092\n",
      "0.017444922658092776\n",
      "0.017320090599764554\n",
      "0.017196629533741348\n",
      "0.017074515974352028\n",
      "0.01695372704295986\n",
      "0.016834240446692045\n",
      "0.0167160344580784\n",
      "0.016599087895555503\n",
      "0.016483380104793888\n",
      "0.016368890940807762\n",
      "0.016255600750809368\n",
      "0.016143490357772988\n",
      "0.01603254104467372\n",
      "0.015922734539369654\n",
      "0.01581405300009664\n",
      "0.015706479001547757\n",
      "0.015599995521508814\n",
      "0.015494585928025745\n",
      "0.015390233967078365\n",
      "0.015286923750737591\n",
      "0.015184639745784101\n",
      "0.015083366762768058\n",
      "0.014983089945488859\n",
      "0.014883794760878116\n",
      "0.014785466989265444\n",
      "0.014688092715012507\n",
      "0.01459165831749773\n",
      "0.014496150462436685\n",
      "0.014401556093523865\n",
      "0.014307862424381562\n",
      "0.014215056930803133\n",
      "0.014123127343277392\n",
      "0.014032061639782989\n",
      "0.013941848038840993\n",
      "0.013852474992814473\n",
      "0.013763931181445643\n",
      "0.013676205505619654\n",
      "0.013589287081346796\n",
      "0.013503165233953118\n",
      "0.01341782949247139\n",
      "0.013333269584224677\n",
      "0.013249475429593705\n",
      "0.013166437136961862\n",
      "0.013084144997829589\n",
      "0.013002589482092236\n",
      "0.012921761233474632\n",
      "0.012841651065115922\n",
      "0.012762249955299454\n",
      "0.012683549043321196\n",
      "0.012605539625492324\n",
      "0.012528213151269563\n",
      "0.012451561219509882\n",
      "0.012375575574843478\n",
      "0.012300248104161193\n",
      "0.01222557083321199\n",
      "0.012151535923306311\n",
      "0.012078135668121243\n",
      "0.01200536249060416\n",
      "0.011933208939970297\n",
      "0.011861667688791988\n",
      "0.011790731530175014\n",
      "0.011720393375020094\n",
      "0.011650646249365099\n",
      "0.01158148329180636\n",
      "0.01151289775099576\n",
      "0.011444882983209975\n",
      "0.01137743244999137\n",
      "0.011310539715855605\n",
      "0.011244198446065917\n",
      "0.011178402404469795\n"
     ]
    }
   ],
   "source": [
    "n_iters = 200\n",
    "alpha = 0.9\n",
    "\n",
    "losses_dsgd = []\n",
    "accuracies_dsgd = []\n",
    "op_gap_dsgd = np.zeros(shape=[n_iters])\n",
    "re_dsgd = np.zeros(shape=[n_iters])\n",
    "\n",
    "\n",
    "\n",
    "\n",
    "for iter in range(n_iters):\n",
    "    #alpha /= (iter + 1)\n",
    "    for i in range(no_users):\n",
    "        d[i] = d_new[i].copy()\n",
    "        grad = gradient(theta[i], X[i], y[i], lambda_logistic)\n",
    "        grad_old[i] = grad.copy()\n",
    "        w_neighbors_sum = np.zeros(num_feature)\n",
    "        w_neighbors_sum = np.add(w_neighbors_sum, comm_matrix[i,i]*theta[i])\n",
    "        for j in G.neighbors(i):\n",
    "            w_neighbors_sum = np.add(w_neighbors_sum, comm_matrix[i,j]*theta[j])\n",
    "        \n",
    "        theta_new[i] = w_neighbors_sum - alpha * d[i]\n",
    "  \n",
    "    for i in range(no_users):\n",
    "        theta[i] = theta_new[i].copy()\n",
    "        grad = gradient(theta[i], X[i], y[i], lambda_logistic)\n",
    "    \n",
    "        w_neighbors_sum = np.zeros(num_feature)\n",
    "        w_neighbors_sum = np.add(w_neighbors_sum, comm_matrix[i,i]*d[i])\n",
    "        for j in G.neighbors(i):\n",
    "            w_neighbors_sum = np.add(w_neighbors_sum, comm_matrix[i,j]*d[j])\n",
    "        \n",
    "        d_new[i] = w_neighbors_sum + grad - grad_old[i]\n",
    "\n",
    "    \n",
    "    \n",
    "    theta_avg = 1/no_users*sum(theta)\n",
    "    \n",
    "    loss_dsgd = np.mean([loss(theta_avg, X[i], y[i], lambda_logistic) for i in range(no_users)])\n",
    "    losses_dsgd.append(loss_dsgd)\n",
    "  \n",
    "    op_gap_dsgd[iter] = np.abs(losses_dsgd[-1] - obj0)\n",
    "    print(op_gap_dsgd[iter])"
   ]
  },
  {
   "cell_type": "markdown",
   "metadata": {},
   "source": [
    "# Optimality Gap"
   ]
  },
  {
   "cell_type": "code",
   "execution_count": 17,
   "metadata": {},
   "outputs": [
    {
     "data": {
      "image/png": "[encoded data removed]",
      "text/plain": [
       "<Figure size 432x288 with 1 Axes>"
      ]
     },
     "metadata": {
      "needs_background": "light"
     },
     "output_type": "display_data"
    }
   ],
   "source": [
    "import matplotlib.pyplot as plt\n",
    "plt.semilogy(op_gap_dsgd)\n",
    "np.save('op_gap_gtdgd', op_gap_dsgd)"
   ]
  },
  {
   "cell_type": "code",
   "execution_count": null,
   "metadata": {},
   "outputs": [],
   "source": []
  }
 ],
 "metadata": {
  "colab": {
   "collapsed_sections": [],
   "name": "DSGD.ipynb",
   "provenance": []
  },
  "kernelspec": {
   "display_name": "Python 3",
   "language": "python",
   "name": "python3"
  },
  "language_info": {
   "codemirror_mode": {
    "name": "ipython",
    "version": 3
   },
   "file_extension": ".py",
   "mimetype": "text/x-python",
   "name": "python",
   "nbconvert_exporter": "python",
   "pygments_lexer": "ipython3",
   "version": "3.8.8"
  }
 },
 "nbformat": 4,
 "nbformat_minor": 4
}
