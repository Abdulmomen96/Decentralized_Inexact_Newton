{
 "cells": [
  {
   "cell_type": "code",
   "execution_count": 1,
   "metadata": {
    "_cell_guid": "b1076dfc-b9ad-4769-8c92-a6c4dae69d19",
    "_uuid": "8f2839f25d086af736a60e9eeb907d3b93b6e0e5",
    "executionInfo": {
     "elapsed": 245,
     "status": "ok",
     "timestamp": 1654764826706,
     "user": {
      "displayName": "Abdulmomen Gholka",
      "userId": "04436549372656956778"
     },
     "user_tz": -180
    },
    "id": "VYzJgl_mTuOo"
   },
   "outputs": [],
   "source": [
    "import numpy as np # linear algebra\n",
    "import pandas as pd # data processing, CSV file I/O (e.g. pd.read_csv)\n",
    "import tensorflow as tf\n",
    "import os\n",
    "\n",
    "import scipy\n",
    "import networkx as nx\n",
    "\n",
    "from sklearn.linear_model import LogisticRegression\n",
    "from sklearn.metrics import log_loss\n",
    "from numpy import linalg as LA"
   ]
  },
  {
   "cell_type": "code",
   "execution_count": 2,
   "metadata": {},
   "outputs": [],
   "source": [
    "seed = 42\n",
    "no_users = 80\n",
    "lambda_logistic = 1e-3"
   ]
  },
  {
   "cell_type": "code",
   "execution_count": 3,
   "metadata": {},
   "outputs": [],
   "source": [
    "def random_split(X, y, n, seed):\n",
    "    \"\"\"Equally split data between n agents\"\"\"\n",
    "    rng = np.random.default_rng(seed)\n",
    "    perm = rng.permutation(y.size)\n",
    "    X_split = np.array_split(X[perm], n)  #np.stack to keep as a np array\n",
    "    y_split = np.array_split(y[perm], n)\n",
    "    return X_split, y_split"
   ]
  },
  {
   "cell_type": "code",
   "execution_count": 4,
   "metadata": {},
   "outputs": [],
   "source": [
    "def loss(w, A, b, l2):\n",
    "    z = b * np.dot(A, w)\n",
    "    tmp = np.minimum(z, 0)\n",
    "    loss = np.log((np.exp(tmp) + np.exp(tmp - z)) / np.exp(tmp))\n",
    "    loss_sum = np.sum(loss) / len(b)\n",
    "    reg = (np.linalg.norm(w) ** 2) * l2 / 2\n",
    "    return loss_sum + reg"
   ]
  },
  {
   "cell_type": "code",
   "execution_count": 5,
   "metadata": {},
   "outputs": [],
   "source": [
    "def gradient(w, A, b, l2):\n",
    "    m = A.shape[0]\n",
    "    z = b * np.dot(A, w)\n",
    "    tmp0 = np.minimum(z, 0)\n",
    "    tmp1 = np.exp(tmp0 - z) / ((np.exp(tmp0) + np.exp(tmp0 - z)))\n",
    "    tmp2 = - tmp1 * b\n",
    "    res = np.dot(A.T, tmp2) / m + l2 * w\n",
    "    return res"
   ]
  },
  {
   "cell_type": "code",
   "execution_count": 6,
   "metadata": {},
   "outputs": [],
   "source": [
    "def hessian(w, A, b, l2):\n",
    "    Aw = A @ w\n",
    "    activation = scipy.special.expit(Aw)\n",
    "    weights = activation * (1-activation)\n",
    "    A_weighted = np.multiply(A.T, weights)\n",
    "    return A_weighted@A/A.shape[0] + l2*np.eye(A.shape[1])"
   ]
  },
  {
   "cell_type": "code",
   "execution_count": 7,
   "metadata": {},
   "outputs": [],
   "source": [
    "def degrees(A):\n",
    "    \"\"\"Return the degrees of each node of a graph from its adjacency matrix\"\"\"\n",
    "    return np.sum(A, axis=0).reshape(A.shape[0], 1)"
   ]
  },
  {
   "cell_type": "code",
   "execution_count": 8,
   "metadata": {},
   "outputs": [],
   "source": [
    "def generate_graph(n, seed):\n",
    "    \"\"\"Generate a random connected graph\"\"\"\n",
    "    while True:\n",
    "        g = nx.generators.random_graphs.binomial_graph(n, 0.4, seed = seed) \n",
    "        # g = nx.random_geometric_graph(n, 0.4, seed = seed)\n",
    "        #g = nx.grid_2d_graph(int(n/5), int(n/5))\n",
    "        if nx.algorithms.components.is_connected(g):\n",
    "            return g"
   ]
  },
  {
   "cell_type": "code",
   "execution_count": 9,
   "metadata": {
    "colab": {
     "base_uri": "https://localhost:8080/",
     "height": 355
    },
    "executionInfo": {
     "elapsed": 469,
     "status": "ok",
     "timestamp": 1654764827400,
     "user": {
      "displayName": "Abdulmomen Gholka",
      "userId": "04436549372656956778"
     },
     "user_tz": -180
    },
    "id": "WKBlmnurkFhZ",
    "outputId": "0d99ecbb-c147-46e7-e79d-a969f15e9e87"
   },
   "outputs": [
    {
     "name": "stdout",
     "output_type": "stream",
     "text": [
      "1242\n",
      "80\n"
     ]
    }
   ],
   "source": [
    "G = generate_graph(no_users, seed)\n",
    "adjacency_matrix = nx.linalg.graphmatrix.adjacency_matrix(G)\n",
    "print(G.number_of_edges())\n",
    "print(G.number_of_nodes())\n",
    "#nx.draw(G, with_labels=True, font_weight='bold')"
   ]
  },
  {
   "cell_type": "code",
   "execution_count": 10,
   "metadata": {
    "executionInfo": {
     "elapsed": 8,
     "status": "ok",
     "timestamp": 1654764829365,
     "user": {
      "displayName": "Abdulmomen Gholka",
      "userId": "04436549372656956778"
     },
     "user_tz": -180
    },
    "id": "0poGZyj0TuOx"
   },
   "outputs": [],
   "source": [
    "X = np.load('X.npy')\n",
    "y = np.load('y.npy').ravel()\n",
    "\n",
    "num_feature = X.shape[1] #+ 1 #+1 for bias"
   ]
  },
  {
   "cell_type": "code",
   "execution_count": 11,
   "metadata": {},
   "outputs": [],
   "source": [
    "X, y = random_split(X, y, no_users, seed)\n",
    "\n",
    "theta = [np.zeros(num_feature) for _ in range(no_users)] # initial model\n",
    "\n",
    "d_new = [np.zeros(num_feature) for _ in range(no_users)] # direction\n",
    "d_old = [np.zeros(num_feature) for _ in range(no_users)] # old direction\n",
    "\n",
    "lamd = [np.zeros(num_feature) for _ in range(no_users)] # dual variables\n",
    "\n",
    "grad = [np.zeros(num_feature) for _ in range(no_users)] # old grads\n",
    "Hess = [np.zeros([num_feature, num_feature]) for _ in range(no_users)] # old hessians"
   ]
  },
  {
   "cell_type": "code",
   "execution_count": 12,
   "metadata": {
    "colab": {
     "base_uri": "https://localhost:8080/"
    },
    "executionInfo": {
     "elapsed": 6569,
     "status": "ok",
     "timestamp": 1654764835930,
     "user": {
      "displayName": "Abdulmomen Gholka",
      "userId": "04436549372656956778"
     },
     "user_tz": -180
    },
    "id": "oTUDJDeGo3Xe",
    "outputId": "3bc27f35-6502-4021-f9a3-23906d72e075"
   },
   "outputs": [],
   "source": [
    "# Optimal objective function, i.e., f(x*)\n",
    "obj0 = 0.3380747159059249 # a9a dataset"
   ]
  },
  {
   "cell_type": "code",
   "execution_count": 13,
   "metadata": {},
   "outputs": [],
   "source": [
    "n_iters = 200\n",
    "rho =[0.004 for t in range(n_iters)]\n",
    "alpha = 0.035 #10 * rho[0]\n",
    "# Best: rho=0.004, alpha = 0.035"
   ]
  },
  {
   "cell_type": "code",
   "execution_count": 14,
   "metadata": {
    "colab": {
     "base_uri": "https://localhost:8080/",
     "height": 1000
    },
    "executionInfo": {
     "elapsed": 25877,
     "status": "error",
     "timestamp": 1654764861790,
     "user": {
      "displayName": "Abdulmomen Gholka",
      "userId": "04436549372656956778"
     },
     "user_tz": -180
    },
    "id": "0ga7NIySF_6y",
    "outputId": "5bc73e34-e286-48e5-d981-e1d926003c65"
   },
   "outputs": [
    {
     "name": "stderr",
     "output_type": "stream",
     "text": [
      "<ipython-input-4-7097a5c91e60>:4: RuntimeWarning: divide by zero encountered in true_divide\n",
      "  loss = np.log((np.exp(tmp) + np.exp(tmp - z)) / np.exp(tmp))\n",
      "<ipython-input-4-7097a5c91e60>:4: RuntimeWarning: overflow encountered in true_divide\n",
      "  loss = np.log((np.exp(tmp) + np.exp(tmp - z)) / np.exp(tmp))\n"
     ]
    }
   ],
   "source": [
    "losses_dnl = []\n",
    "accuracies_dnl = []\n",
    "op_gap_dnl = np.zeros(shape=[n_iters])\n",
    "\n",
    "for k in range(n_iters):\n",
    "    #print(k)\n",
    "    for i in range(no_users):        \n",
    "        grad[i] = gradient(theta[i], X[i], y[i], lambda_logistic)\n",
    "        Hess[i] = hessian(theta[i], X[i], y[i], lambda_logistic)\n",
    "    \n",
    "    \n",
    "    for i in range(no_users):\n",
    "        w_neighbors_sum = np.zeros(num_feature)\n",
    "        lamd_neighbors_sum = np.zeros(num_feature)\n",
    "        for j in G.neighbors(i):\n",
    "            w_neighbors_sum = np.add(w_neighbors_sum, d_old[j])\n",
    "            lamd_neighbors_sum = np.add(lamd_neighbors_sum, lamd[j])\n",
    "        degree = G.degree(i)\n",
    "        d_new[i] = np.matmul(np.linalg.inv(Hess[i] + (2 * degree * rho[k] + alpha) * np.eye(num_feature)),\\\n",
    "                                        grad[i] - lamd[i] + rho[k] * (degree * d_old[i] + w_neighbors_sum))\n",
    "    \n",
    "    # Dual Variable Update\n",
    "    for i in range(no_users):\n",
    "        w_neighbors_sum = np.zeros(num_feature)\n",
    "        for j in G.neighbors(i):\n",
    "            w_neighbors_sum = np.add(w_neighbors_sum, d_new[j])\n",
    "        degree = G.degree(i)\n",
    "        lamd[i] = lamd[i] + rho[k] * (degree * d_new[i] - w_neighbors_sum)\n",
    "            \n",
    "\n",
    "  \n",
    "    \n",
    "   # print('dual: ', LA.norm(lamd[0]))\n",
    "\n",
    "    for i in range(no_users):\n",
    "        d_neighbors_sum = d_new[i]\n",
    "        degree = G.degree(i)\n",
    "        for j in G.neighbors(i):\n",
    "            d_neighbors_sum = np.add(d_neighbors_sum, d_new[j])\n",
    "        #d_new[i] = 1/(degree + 1) * d_neighbors_sum\n",
    "        theta[i] = theta[i] - d_new[i]\n",
    "        d_old[i] = d_new[i]\n",
    "    \n",
    "   # Performance Check\n",
    "    \n",
    "    theta_avg = 1/no_users*sum(theta)\n",
    "    \n",
    "    for i in range(no_users):\n",
    "        loss_dnl = np.mean([loss(theta_avg, X[i], y[i], lambda_logistic) for i in range(no_users)])\n",
    "        losses_dnl.append(loss_dnl)\n",
    "    \n",
    "    op_gap_dnl[k] = np.abs(losses_dnl[-1] - obj0)"
   ]
  },
  {
   "cell_type": "markdown",
   "metadata": {},
   "source": [
    "# Optimality Gap"
   ]
  },
  {
   "cell_type": "code",
   "execution_count": 15,
   "metadata": {
    "executionInfo": {
     "elapsed": 43,
     "status": "aborted",
     "timestamp": 1654764861784,
     "user": {
      "displayName": "Abdulmomen Gholka",
      "userId": "04436549372656956778"
     },
     "user_tz": -180
    },
    "id": "Tacuz2qbTuPJ"
   },
   "outputs": [
    {
     "data": {
      "image/png": "[encoded data removed]",
      "text/plain": [
       "<Figure size 432x288 with 1 Axes>"
      ]
     },
     "metadata": {
      "needs_background": "light"
     },
     "output_type": "display_data"
    }
   ],
   "source": [
    "import matplotlib.pyplot as plt\n",
    "plt.semilogy(op_gap_dnl)\n",
    "#plt.ylim([10**(-5),0.5])\n",
    "np.save('op_gap_dnl', op_gap_dnl)"
   ]
  }
 ],
 "metadata": {
  "accelerator": "GPU",
  "colab": {
   "collapsed_sections": [],
   "name": "DNL.ipynb",
   "provenance": []
  },
  "kernelspec": {
   "display_name": "Python 3",
   "language": "python",
   "name": "python3"
  },
  "language_info": {
   "codemirror_mode": {
    "name": "ipython",
    "version": 3
   },
   "file_extension": ".py",
   "mimetype": "text/x-python",
   "name": "python",
   "nbconvert_exporter": "python",
   "pygments_lexer": "ipython3",
   "version": "3.8.8"
  }
 },
 "nbformat": 4,
 "nbformat_minor": 4
}
