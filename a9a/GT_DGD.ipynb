{
 "cells": [
  {
   "cell_type": "code",
   "execution_count": 1,
   "metadata": {
    "_cell_guid": "b1076dfc-b9ad-4769-8c92-a6c4dae69d19",
    "_uuid": "8f2839f25d086af736a60e9eeb907d3b93b6e0e5",
    "executionInfo": {
     "elapsed": 312,
     "status": "ok",
     "timestamp": 1654762797257,
     "user": {
      "displayName": "Abdulmomen Gholka",
      "userId": "04436549372656956778"
     },
     "user_tz": -180
    },
    "id": "VYzJgl_mTuOo"
   },
   "outputs": [],
   "source": [
    "import numpy as np # linear algebra\n",
    "import pandas as pd # data processing, CSV file I/O (e.g. pd.read_csv)\n",
    "import tensorflow as tf\n",
    "import os\n",
    "\n",
    "import scipy\n",
    "import networkx as nx\n",
    "\n",
    "from sklearn.linear_model import LogisticRegression\n",
    "from sklearn.metrics import log_loss"
   ]
  },
  {
   "cell_type": "code",
   "execution_count": 2,
   "metadata": {},
   "outputs": [],
   "source": [
    "seed = 42\n",
    "no_users = 80\n",
    "lambda_logistic = 1e-3"
   ]
  },
  {
   "cell_type": "code",
   "execution_count": 3,
   "metadata": {
    "colab": {
     "base_uri": "https://localhost:8080/",
     "height": 355
    },
    "executionInfo": {
     "elapsed": 551,
     "status": "ok",
     "timestamp": 1654762798119,
     "user": {
      "displayName": "Abdulmomen Gholka",
      "userId": "04436549372656956778"
     },
     "user_tz": -180
    },
    "id": "WKBlmnurkFhZ",
    "outputId": "4b22a1f3-a239-471a-c08c-2accc6fc634a"
   },
   "outputs": [],
   "source": [
    "def random_split(X, y, n, seed):\n",
    "    \"\"\"Equally split data between n agents\"\"\"\n",
    "    rng = np.random.default_rng(seed)\n",
    "    perm = rng.permutation(y.size)\n",
    "    X_split = np.array_split(X[perm], n)  #np.stack to keep as a np array\n",
    "    y_split = np.array_split(y[perm], n)\n",
    "    return X_split, y_split"
   ]
  },
  {
   "cell_type": "code",
   "execution_count": 4,
   "metadata": {},
   "outputs": [],
   "source": [
    "def loss(w, A, b, l2):\n",
    "    z = b * np.dot(A, w)\n",
    "    tmp = np.minimum(z, 0)\n",
    "    loss = np.log((np.exp(tmp) + np.exp(tmp - z)) / np.exp(tmp))\n",
    "    loss_sum = np.sum(loss) / len(b)\n",
    "    reg = (np.linalg.norm(w) ** 2) * l2 / 2\n",
    "    return loss_sum + reg"
   ]
  },
  {
   "cell_type": "code",
   "execution_count": 5,
   "metadata": {},
   "outputs": [],
   "source": [
    "def gradient(w, A, b, l2):\n",
    "    m = A.shape[0]\n",
    "    z = b * np.dot(A, w)\n",
    "    tmp0 = np.minimum(z, 0)\n",
    "    tmp1 = np.exp(tmp0 - z) / ((np.exp(tmp0) + np.exp(tmp0 - z)))\n",
    "    tmp2 = - tmp1 * b\n",
    "    res = np.dot(A.T, tmp2) / m + l2 * w\n",
    "    return res"
   ]
  },
  {
   "cell_type": "code",
   "execution_count": 6,
   "metadata": {},
   "outputs": [],
   "source": [
    "def hessian(w, A, b, l2):\n",
    "    Aw = A @ w\n",
    "    activation = scipy.special.expit(Aw)\n",
    "    weights = activation * (1-activation)\n",
    "    A_weighted = np.multiply(A.T, weights)\n",
    "    return A_weighted@A/A.shape[0] + l2*np.eye(A.shape[1])"
   ]
  },
  {
   "cell_type": "code",
   "execution_count": 7,
   "metadata": {},
   "outputs": [],
   "source": [
    "def generate_graph(n, seed):\n",
    "    \"\"\"Generate a random connected graph\"\"\"\n",
    "    while True:\n",
    "        g = nx.generators.random_graphs.binomial_graph(n, 0.4, seed = seed) \n",
    "        # g = nx.random_geometric_graph(n, 0.4, seed = seed)\n",
    "        #g = nx.grid_2d_graph(int(n/5), int(n/5))\n",
    "        if nx.algorithms.components.is_connected(g):\n",
    "            return g"
   ]
  },
  {
   "cell_type": "code",
   "execution_count": 8,
   "metadata": {},
   "outputs": [],
   "source": [
    "def degrees(A):\n",
    "    \"\"\"Return the degrees of each node of a graph from its adjacency matrix\"\"\"\n",
    "    return np.sum(A, axis=0).reshape(A.shape[0], 1)"
   ]
  },
  {
   "cell_type": "code",
   "execution_count": 9,
   "metadata": {},
   "outputs": [],
   "source": [
    "def metropolis_weights(Adj):\n",
    "    N = np.shape(Adj)[0]\n",
    "    degree = degrees(Adj)\n",
    "    W = np.zeros([N, N])\n",
    "    for i in range(N):\n",
    "        N_i = np.nonzero(Adj[i, :])[1]  # Fixed Neighbors\n",
    "        for j in N_i:\n",
    "            W[i, j] = 1/(1+np.max([degree[i], degree[j]]))\n",
    "        W[i, i] = 1 - np.sum(W[i, :])\n",
    "    return W"
   ]
  },
  {
   "cell_type": "code",
   "execution_count": 10,
   "metadata": {},
   "outputs": [
    {
     "name": "stdout",
     "output_type": "stream",
     "text": [
      "1242\n",
      "80\n"
     ]
    }
   ],
   "source": [
    "G = generate_graph(no_users, seed)\n",
    "\n",
    "adjacency_matrix = nx.linalg.graphmatrix.adjacency_matrix(G)\n",
    "comm_matrix = metropolis_weights(adjacency_matrix)\n",
    "\n",
    "print(G.number_of_edges())\n",
    "print(G.number_of_nodes())\n",
    "#nx.draw(G, with_labels=True, font_weight='bold')"
   ]
  },
  {
   "cell_type": "code",
   "execution_count": 11,
   "metadata": {},
   "outputs": [],
   "source": [
    "X = np.load('X.npy')\n",
    "y = np.load('y.npy').ravel()\n",
    "\n",
    "num_feature = X.shape[1] #+ 1 #+1 for bias"
   ]
  },
  {
   "cell_type": "code",
   "execution_count": 12,
   "metadata": {},
   "outputs": [
    {
     "name": "stdout",
     "output_type": "stream",
     "text": [
      "[-1. -1. -1. ...  1. -1. -1.]\n"
     ]
    }
   ],
   "source": [
    "print(y)"
   ]
  },
  {
   "cell_type": "code",
   "execution_count": 13,
   "metadata": {},
   "outputs": [],
   "source": [
    "X, y = random_split(X, y, no_users, seed)\n",
    "\n",
    "theta = [np.zeros(num_feature) for _ in range(no_users)]\n",
    "theta_new = [np.zeros(num_feature) for _ in range(no_users)]\n",
    "\n",
    "\n",
    "d = [np.zeros(num_feature) for _ in range(no_users)] # direction\n",
    "d_new = [np.zeros(num_feature) for _ in range(no_users)] # direction\n",
    "grad_old = [np.zeros(num_feature) for _ in range(no_users)] # direction\n",
    "\n",
    "lamd = [np.zeros(num_feature) for _ in range(no_users)] # dual variables"
   ]
  },
  {
   "cell_type": "code",
   "execution_count": 14,
   "metadata": {},
   "outputs": [],
   "source": [
    "for i in range(no_users):\n",
    "    grad = gradient(theta[i], X[i], y[i], lambda_logistic)\n",
    "    d[i] = grad\n",
    "    d_new[i] = d[i].copy()"
   ]
  },
  {
   "cell_type": "code",
   "execution_count": 15,
   "metadata": {},
   "outputs": [],
   "source": [
    "# Optimal objective function, i.e., f(x*)\n",
    "obj0 = 0.333347206075705 # a1a dataset"
   ]
  },
  {
   "cell_type": "code",
   "execution_count": 16,
   "metadata": {},
   "outputs": [
    {
     "name": "stdout",
     "output_type": "stream",
     "text": [
      "0.1993316735002867\n",
      "0.17445038187112816\n",
      "0.15552079045577538\n",
      "0.13998296527689413\n",
      "0.12693718263768983\n",
      "0.11601614831586204\n",
      "0.10664628875469806\n",
      "0.09870695759022785\n",
      "0.09170392241514436\n",
      "0.08573844305584005\n",
      "0.08029164907147429\n",
      "0.07585775113857163\n",
      "0.07174678370557774\n",
      "0.06949813556831058\n",
      "0.06762698504072157\n",
      "0.06932807172860767\n",
      "0.07073973677589734\n",
      "0.07635188273030952\n",
      "0.07925019606471306\n",
      "0.08549315014070735\n",
      "0.08618209586680475\n",
      "0.0896878261836368\n",
      "0.08650018448232621\n",
      "0.08656978090610978\n",
      "0.08063975331783496\n",
      "0.07870882112930205\n",
      "0.07204771032459417\n",
      "0.0697724194142818\n",
      "0.06373676578168969\n",
      "0.06198635129446278\n",
      "0.05701594461370918\n",
      "0.05595643709261722\n",
      "0.05195791121813298\n",
      "0.05144688663526109\n",
      "0.048169963583419295\n",
      "0.04801517058355742\n",
      "0.045233881386084085\n",
      "0.0452873890132901\n",
      "0.04284635449285956\n",
      "0.04301634148276684\n",
      "0.04082183351236146\n",
      "0.04105813360933158\n",
      "0.03905646746804886\n",
      "0.039333575517578157\n",
      "0.037492837935963697\n",
      "0.03779763417078413\n",
      "0.03609628059053588\n",
      "0.03642104779376931\n",
      "0.03484216651481631\n",
      "0.03518134289280739\n",
      "0.03371034272229345\n",
      "0.03405932145236423\n",
      "0.032683242131020696\n",
      "0.03303806035360951\n",
      "0.03174545501018772\n",
      "0.032102763540523216\n",
      "0.030883679890178484\n",
      "0.031240744980699398\n",
      "0.0300866552666903\n",
      "0.030441324721599605\n",
      "0.029344993110985707\n",
      "0.02969562874801618\n",
      "0.028650945061345412\n",
      "0.02899633993751949\n",
      "0.02799814846586124\n",
      "0.028337444332812434\n",
      "0.02738138564631465\n",
      "0.0277139992267888\n",
      "0.026796372836240256\n",
      "0.0271219340284653\n",
      "0.026239583337822947\n",
      "0.02655788526399977\n",
      "0.025708103019300488\n",
      "0.0260190624114357\n",
      "0.025199513663217932\n",
      "0.02550313969958079\n",
      "0.024711799181325433\n",
      "0.025008169007879\n",
      "0.024243270174853282\n",
      "0.024532509646863043\n",
      "0.02379250308912567\n",
      "0.024074771588742494\n",
      "0.023358290981161323\n",
      "0.02363376944242196\n",
      "0.02293960357255792\n",
      "0.02320848505986911\n",
      "0.022535554775385602\n",
      "0.022798037120054016\n",
      "0.02214537627150248\n",
      "0.02240165638487518\n",
      "0.02176839602155939\n",
      "0.022018665584783714\n",
      "0.02140402080368753\n",
      "0.021648463092844517\n",
      "0.02105172205328787\n",
      "0.021290509702018567\n",
      "0.02071102440903444\n",
      "0.020944317943864477\n",
      "0.020381496476435057\n",
      "0.020609443486155066\n",
      "0.020062743406101147\n",
      "0.020285478227937415\n",
      "0.019754400954089035\n",
      "0.01997204477732284\n",
      "0.019456130749648415\n",
      "0.019668792052627948\n",
      "0.019167616543828647\n",
      "0.0193753917934672\n",
      "0.018888561252420166\n",
      "0.019091535806611104\n",
      "0.018618684640006156\n",
      "0.01881693380312749\n",
      "0.0183577215195439\n",
      "0.018551311709551876\n",
      "0.01810542036477175\n",
      "0.018294410357432733\n",
      "0.017861542251584817\n",
      "0.018045984473302135\n",
      "0.017625860059942378\n",
      "0.017805801905532215\n",
      "0.01739815788039889\n",
      "0.01757364303617559\n",
      "0.017178230579407594\n",
      "0.01734930033518095\n",
      "0.016965883485506872\n",
      "0.017132578021694267\n",
      "0.01676093216465324\n",
      "0.016923291802782514\n",
      "0.0165632022575547\n",
      "0.01672126866409257\n",
      "0.01637252935505551\n",
      "0.01652634668983033\n",
      "0.0161887588895529\n",
      "0.016338374891119778\n",
      "0.01601174602113553\n",
      "0.01615721302228701\n",
      "0.015841355496651277\n",
      "0.015982731363885894\n",
      "0.015677461458188657\n",
      "0.015814810449245376\n",
      "0.01551994717448485\n",
      "0.01565334070789548\n",
      "0.015368704664546151\n",
      "0.015498221994385164\n",
      "0.015223634177427114\n",
      "0.015349362964862834\n",
      "0.015084643485982485\n",
      "0.015206680256697358\n",
      "0.01495164694611334\n",
      "0.015070097419111028\n",
      "0.014824564267588991\n",
      "0.01493954353644622\n",
      "0.014703318939421062\n",
      "0.01481495148199291\n",
      "0.014587836253884823\n",
      "0.01469625574146749\n",
      "0.014478040880911203\n",
      "0.014583389753829779\n",
      "0.014373853961075822\n",
      "0.01447628273584256\n",
      "0.014275189712937009\n",
      "0.014374855988004642\n",
      "0.014181951590395925\n",
      "0.014279018724698445\n",
      "0.014094028078090015\n",
      "0.0141886635304736\n",
      "0.014011288275573963\n",
      "0.01410366161481813\n",
      "0.013933577489656235\n",
      "0.014023858114034338\n",
      "0.013860713121383983\n",
      "0.013949067762069112\n",
      "0.013792481189873196\n",
      "0.013879071310436919\n",
      "0.013728633867809092\n",
      "0.013813613107003575\n",
      "0.013668888401236645\n",
      "0.013752400230997996\n",
      "0.01361292773963696\n",
      "0.013695103517272655\n",
      "0.01356040310649198\n",
      "0.01364136068340599\n",
      "0.013510938598101707\n",
      "0.013590781605104296\n",
      "0.013464137720737734\n",
      "0.013542955585417571\n",
      "0.013419591583452628\n",
      "0.013497460257443472\n",
      "0.013376888282624733\n",
      "0.013453871579214849\n",
      "0.01333562287318013\n",
      "0.013411774252797215\n",
      "0.013295407244963142\n",
      "0.01337077184888713\n",
      "0.013255879225614497\n",
      "0.01333049595214486\n",
      "0.013216710314376934\n",
      "0.013290613754873393\n",
      "0.013177611600808214\n",
      "0.013250833697884268\n"
     ]
    }
   ],
   "source": [
    "n_iters = 200\n",
    "alpha = 0.6\n",
    "\n",
    "losses_dsgd = []\n",
    "accuracies_dsgd = []\n",
    "op_gap_dsgd = np.zeros(shape=[n_iters])\n",
    "re_dsgd = np.zeros(shape=[n_iters])\n",
    "\n",
    "\n",
    "\n",
    "\n",
    "for iter in range(n_iters):\n",
    "    #alpha /= (iter + 1)\n",
    "    for i in range(no_users):\n",
    "        d[i] = d_new[i].copy()\n",
    "        grad = gradient(theta[i], X[i], y[i], lambda_logistic)\n",
    "        grad_old[i] = grad.copy()\n",
    "        w_neighbors_sum = np.zeros(num_feature)\n",
    "        w_neighbors_sum = np.add(w_neighbors_sum, comm_matrix[i,i]*theta[i])\n",
    "        for j in G.neighbors(i):\n",
    "            w_neighbors_sum = np.add(w_neighbors_sum, comm_matrix[i,j]*theta[j])\n",
    "        \n",
    "        theta_new[i] = w_neighbors_sum - alpha * d[i]\n",
    "  \n",
    "    for i in range(no_users):\n",
    "        theta[i] = theta_new[i].copy()\n",
    "        grad = gradient(theta[i], X[i], y[i], lambda_logistic)\n",
    "    \n",
    "        w_neighbors_sum = np.zeros(num_feature)\n",
    "        w_neighbors_sum = np.add(w_neighbors_sum, comm_matrix[i,i]*d[i])\n",
    "        for j in G.neighbors(i):\n",
    "            w_neighbors_sum = np.add(w_neighbors_sum, comm_matrix[i,j]*d[j])\n",
    "        \n",
    "        d_new[i] = w_neighbors_sum + grad - grad_old[i]\n",
    "\n",
    "    \n",
    "    \n",
    "    theta_avg = 1/no_users*sum(theta)\n",
    "    \n",
    "    loss_dsgd = np.mean([loss(theta_avg, X[i], y[i], lambda_logistic) for i in range(no_users)])\n",
    "    losses_dsgd.append(loss_dsgd)\n",
    "  \n",
    "    op_gap_dsgd[iter] = np.abs(losses_dsgd[-1] - obj0)\n",
    "    print(op_gap_dsgd[iter])"
   ]
  },
  {
   "cell_type": "markdown",
   "metadata": {},
   "source": [
    "# Optimality Gap"
   ]
  },
  {
   "cell_type": "code",
   "execution_count": 17,
   "metadata": {},
   "outputs": [
    {
     "data": {
      "image/png": "[encoded data removed]",
      "text/plain": [
       "<Figure size 432x288 with 1 Axes>"
      ]
     },
     "metadata": {
      "needs_background": "light"
     },
     "output_type": "display_data"
    }
   ],
   "source": [
    "import matplotlib.pyplot as plt\n",
    "plt.semilogy(op_gap_dsgd)\n",
    "np.save('op_gap_gtdgd', op_gap_dsgd)"
   ]
  },
  {
   "cell_type": "code",
   "execution_count": null,
   "metadata": {},
   "outputs": [],
   "source": []
  }
 ],
 "metadata": {
  "colab": {
   "collapsed_sections": [],
   "name": "DSGD.ipynb",
   "provenance": []
  },
  "kernelspec": {
   "display_name": "Python 3",
   "language": "python",
   "name": "python3"
  },
  "language_info": {
   "codemirror_mode": {
    "name": "ipython",
    "version": 3
   },
   "file_extension": ".py",
   "mimetype": "text/x-python",
   "name": "python",
   "nbconvert_exporter": "python",
   "pygments_lexer": "ipython3",
   "version": "3.8.8"
  }
 },
 "nbformat": 4,
 "nbformat_minor": 4
}
