{
 "cells": [
  {
   "cell_type": "code",
   "execution_count": 1,
   "metadata": {
    "_cell_guid": "b1076dfc-b9ad-4769-8c92-a6c4dae69d19",
    "_uuid": "8f2839f25d086af736a60e9eeb907d3b93b6e0e5",
    "executionInfo": {
     "elapsed": 312,
     "status": "ok",
     "timestamp": 1654762797257,
     "user": {
      "displayName": "Abdulmomen Gholka",
      "userId": "04436549372656956778"
     },
     "user_tz": -180
    },
    "id": "VYzJgl_mTuOo"
   },
   "outputs": [],
   "source": [
    "import numpy as np # linear algebra\n",
    "import pandas as pd # data processing, CSV file I/O (e.g. pd.read_csv)\n",
    "import tensorflow as tf\n",
    "import os\n",
    "\n",
    "import scipy\n",
    "import networkx as nx\n",
    "\n",
    "from sklearn.linear_model import LogisticRegression\n",
    "from sklearn.metrics import log_loss"
   ]
  },
  {
   "cell_type": "code",
   "execution_count": 2,
   "metadata": {},
   "outputs": [],
   "source": [
    "seed = 42\n",
    "no_users = 80\n",
    "lambda_logistic = 1e-3"
   ]
  },
  {
   "cell_type": "code",
   "execution_count": 3,
   "metadata": {
    "colab": {
     "base_uri": "https://localhost:8080/",
     "height": 355
    },
    "executionInfo": {
     "elapsed": 551,
     "status": "ok",
     "timestamp": 1654762798119,
     "user": {
      "displayName": "Abdulmomen Gholka",
      "userId": "04436549372656956778"
     },
     "user_tz": -180
    },
    "id": "WKBlmnurkFhZ",
    "outputId": "4b22a1f3-a239-471a-c08c-2accc6fc634a"
   },
   "outputs": [],
   "source": [
    "def random_split(X, y, n, seed):\n",
    "    \"\"\"Equally split data between n agents\"\"\"\n",
    "    rng = np.random.default_rng(seed)\n",
    "    perm = rng.permutation(y.size)\n",
    "    X_split = np.array_split(X[perm], n)  #np.stack to keep as a np array\n",
    "    y_split = np.array_split(y[perm], n)\n",
    "    return X_split, y_split"
   ]
  },
  {
   "cell_type": "code",
   "execution_count": 4,
   "metadata": {},
   "outputs": [],
   "source": [
    "def loss(w, A, b, l2):\n",
    "    z = b * np.dot(A, w)\n",
    "    tmp = np.minimum(z, 0)\n",
    "    loss = np.log((np.exp(tmp) + np.exp(tmp - z)) / np.exp(tmp))\n",
    "    loss_sum = np.sum(loss) / len(b)\n",
    "    reg = (np.linalg.norm(w) ** 2) * l2 / 2\n",
    "    return loss_sum + reg"
   ]
  },
  {
   "cell_type": "code",
   "execution_count": 5,
   "metadata": {},
   "outputs": [],
   "source": [
    "def gradient(w, A, b, l2):\n",
    "    m = A.shape[0]\n",
    "    z = b * np.dot(A, w)\n",
    "    tmp0 = np.minimum(z, 0)\n",
    "    tmp1 = np.exp(tmp0 - z) / ((np.exp(tmp0) + np.exp(tmp0 - z)))\n",
    "    tmp2 = - tmp1 * b\n",
    "    res = np.dot(A.T, tmp2) / m + l2 * w\n",
    "    return res"
   ]
  },
  {
   "cell_type": "code",
   "execution_count": 6,
   "metadata": {},
   "outputs": [],
   "source": [
    "def hessian(w, A, b, l2):\n",
    "    Aw = A @ w\n",
    "    activation = scipy.special.expit(Aw)\n",
    "    weights = activation * (1-activation)\n",
    "    A_weighted = np.multiply(A.T, weights)\n",
    "    return A_weighted@A/A.shape[0] + l2*np.eye(A.shape[1])"
   ]
  },
  {
   "cell_type": "code",
   "execution_count": 7,
   "metadata": {},
   "outputs": [],
   "source": [
    "def generate_graph(n, seed):\n",
    "    \"\"\"Generate a random connected graph\"\"\"\n",
    "    while True:\n",
    "        g = nx.generators.random_graphs.binomial_graph(n, 0.4, seed = seed) \n",
    "        # g = nx.random_geometric_graph(n, 0.4, seed = seed)\n",
    "        #g = nx.grid_2d_graph(int(n/5), int(n/5))\n",
    "        if nx.algorithms.components.is_connected(g):\n",
    "            return g"
   ]
  },
  {
   "cell_type": "code",
   "execution_count": 8,
   "metadata": {},
   "outputs": [],
   "source": [
    "def degrees(A):\n",
    "    \"\"\"Return the degrees of each node of a graph from its adjacency matrix\"\"\"\n",
    "    return np.sum(A, axis=0).reshape(A.shape[0], 1)"
   ]
  },
  {
   "cell_type": "code",
   "execution_count": 9,
   "metadata": {},
   "outputs": [],
   "source": [
    "def metropolis_weights(Adj):\n",
    "    N = np.shape(Adj)[0]\n",
    "    degree = degrees(Adj)\n",
    "    W = np.zeros([N, N])\n",
    "    for i in range(N):\n",
    "        N_i = np.nonzero(Adj[i, :])[1]  # Fixed Neighbors\n",
    "        for j in N_i:\n",
    "            W[i, j] = 1/(1+np.max([degree[i], degree[j]]))\n",
    "        W[i, i] = 1 - np.sum(W[i, :])\n",
    "    return W"
   ]
  },
  {
   "cell_type": "code",
   "execution_count": 10,
   "metadata": {},
   "outputs": [
    {
     "name": "stdout",
     "output_type": "stream",
     "text": [
      "1242\n",
      "80\n"
     ]
    }
   ],
   "source": [
    "G = generate_graph(no_users, seed)\n",
    "\n",
    "adjacency_matrix = nx.linalg.graphmatrix.adjacency_matrix(G)\n",
    "comm_matrix = metropolis_weights(adjacency_matrix)\n",
    "\n",
    "print(G.number_of_edges())\n",
    "print(G.number_of_nodes())\n",
    "#nx.draw(G, with_labels=True, font_weight='bold')"
   ]
  },
  {
   "cell_type": "code",
   "execution_count": 11,
   "metadata": {},
   "outputs": [],
   "source": [
    "X = np.load('X.npy')\n",
    "y = np.load('y.npy').ravel()\n",
    "\n",
    "num_feature = X.shape[1] #+ 1 #+1 for bias"
   ]
  },
  {
   "cell_type": "code",
   "execution_count": 12,
   "metadata": {},
   "outputs": [
    {
     "name": "stdout",
     "output_type": "stream",
     "text": [
      "[-1. -1. -1. ...  1. -1. -1.]\n"
     ]
    }
   ],
   "source": [
    "print(y)"
   ]
  },
  {
   "cell_type": "code",
   "execution_count": 13,
   "metadata": {},
   "outputs": [],
   "source": [
    "X, y = random_split(X, y, no_users, seed)\n",
    "\n",
    "theta = [np.zeros(num_feature) for _ in range(no_users)]\n",
    "theta_new = [np.zeros(num_feature) for _ in range(no_users)]\n",
    "\n",
    "\n",
    "d = [np.zeros(num_feature) for _ in range(no_users)] # direction\n",
    "d_new = [np.zeros(num_feature) for _ in range(no_users)] # direction\n",
    "grad_old = [np.zeros(num_feature) for _ in range(no_users)] # direction\n",
    "\n",
    "lamd = [np.zeros(num_feature) for _ in range(no_users)] # dual variables"
   ]
  },
  {
   "cell_type": "code",
   "execution_count": 14,
   "metadata": {},
   "outputs": [],
   "source": [
    "for i in range(no_users):\n",
    "    grad = gradient(theta[i], X[i], y[i], lambda_logistic)\n",
    "    d[i] = grad\n",
    "    d_new[i] = d[i].copy()"
   ]
  },
  {
   "cell_type": "code",
   "execution_count": 15,
   "metadata": {},
   "outputs": [],
   "source": [
    "# Optimal objective function, i.e., f(x*)\n",
    "obj0 = 0.333347206075705 # a1a dataset"
   ]
  },
  {
   "cell_type": "code",
   "execution_count": 16,
   "metadata": {},
   "outputs": [
    {
     "name": "stdout",
     "output_type": "stream",
     "text": [
      "0.22903845127624167\n",
      "0.19480548012472731\n",
      "0.17651707490449908\n",
      "0.16283214263990914\n",
      "0.15127623311066618\n",
      "0.1411875686795963\n",
      "0.13223496696323378\n",
      "0.12427449499965104\n",
      "0.11713570585120003\n",
      "0.11074074578595128\n",
      "0.1049613994464138\n",
      "0.09974997826396781\n",
      "0.09500462050777625\n",
      "0.09069877597348425\n",
      "0.08674915516878018\n",
      "0.08314466208163929\n",
      "0.07981496628741352\n",
      "0.0767604579530049\n",
      "0.0739196432454054\n",
      "0.0713017253780151\n",
      "0.06885098872639789\n",
      "0.06658374367133701\n",
      "0.06444770736020089\n",
      "0.06246531179860948\n",
      "0.060585812286958585\n",
      "0.058837320335097365\n",
      "0.05716900487440807\n",
      "0.0556146257718263\n",
      "0.05412180088845403\n",
      "0.05273020469995138\n",
      "0.05138455231269495\n",
      "0.05013088177059849\n",
      "0.0489097784828364\n",
      "0.047774148750882595\n",
      "0.0466594078699718\n",
      "0.04562575192586593\n",
      "0.04460266690329229\n",
      "0.043657838890282075\n",
      "0.0427144474645641\n",
      "0.041847531840097874\n",
      "0.04097404622959211\n",
      "0.04017583863285756\n",
      "0.03936420243011535\n",
      "0.03862683326443839\n",
      "0.037870374409413876\n",
      "0.037187044916041856\n",
      "0.03648020016256548\n",
      "0.0358449997110859\n",
      "0.03518309177224965\n",
      "0.03459086778374165\n",
      "0.03396992231415896\n",
      "0.033416180675345686\n",
      "0.03283277555327346\n",
      "0.03231359735235961\n",
      "0.031764740330398056\n",
      "0.031276707789019864\n",
      "0.030759740143182446\n",
      "0.030299869346866237\n",
      "0.029812393128712478\n",
      "0.02937807346649135\n",
      "0.028917899206284348\n",
      "0.028506840002743394\n",
      "0.02807195099108567\n",
      "0.027682135510401662\n",
      "0.0272706645216354\n",
      "0.026900310996181065\n",
      "0.02651052557710487\n",
      "0.02615805450629849\n",
      "0.02578834759066584\n",
      "0.025452354367994423\n",
      "0.025101237777764907\n",
      "0.024780469702141317\n",
      "0.024446568880863884\n",
      "0.024139905717419363\n",
      "0.023821954700611048\n",
      "0.023528392107486917\n",
      "0.023225228227929107\n",
      "0.02294386351526201\n",
      "0.02265442167247167\n",
      "0.022384441486097972\n",
      "0.02210774800729498\n",
      "0.02184841762689388\n",
      "0.021583583847075816\n",
      "0.02133423785905092\n",
      "0.021080453583205983\n",
      "0.020840487738261804\n",
      "0.020597014745442066\n",
      "0.02036587884549501\n",
      "0.020132044571141372\n",
      "0.019909236254859575\n",
      "0.019684427756623324\n",
      "0.019469487071116898\n",
      "0.019253145351734613\n",
      "0.019045650012133652\n",
      "0.018837264744518745\n",
      "0.018636825994876705\n",
      "0.018435930671106215\n",
      "0.018242189670130082\n",
      "0.01804835717775466\n",
      "0.017860981841767487\n",
      "0.017673820457463685\n",
      "0.01749250270100472\n",
      "0.017311652482323525\n",
      "0.01713610580400987\n",
      "0.01696123535406252\n",
      "0.016791192721844816\n",
      "0.016621996298460173\n",
      "0.016457208294242187\n",
      "0.016293403233755888\n",
      "0.016133636422558495\n",
      "0.015974960848419872\n",
      "0.0158199963418858\n",
      "0.015666207129241383\n",
      "0.015515839317347457\n",
      "0.015366710286355778\n",
      "0.015220745714764283\n",
      "0.015076066027349067\n",
      "0.014934322400944777\n",
      "0.014793895137829027\n",
      "0.014656200433687316\n",
      "0.014519841330730698\n",
      "0.014386033006108134\n",
      "0.014253569331103277\n",
      "0.014123493614062288\n",
      "0.013994763167183288\n",
      "0.01386827441920535\n",
      "0.01374312464219879\n",
      "0.013620084783638409\n",
      "0.013498371964589695\n",
      "0.013378649955109012\n",
      "0.013260238517199763\n",
      "0.013143709884426147\n",
      "0.013028471748517123\n",
      "0.012915018159112557\n",
      "0.012802832171253553\n",
      "0.012692341039393262\n",
      "0.012583092455484335\n",
      "0.012475456584433886\n",
      "0.01236903660525035\n",
      "0.012264153858323523\n",
      "0.012160459208984786\n",
      "0.012058232206670239\n",
      "0.011957164755391991\n",
      "0.01185750059586721\n",
      "0.011758967007498566\n",
      "0.011661777008121599\n",
      "0.011565688428545218\n",
      "0.011470887886226744\n",
      "0.011377159654198665\n",
      "0.011284667622830591\n",
      "0.011193219006272515\n",
      "0.01110295808961409\n",
      "0.011013712043746127\n",
      "0.010925608202370374\n",
      "0.010838491147398377\n",
      "0.010752473518466199\n",
      "0.01066741513481817\n",
      "0.010583415863594126\n",
      "0.01050034890294671\n",
      "0.010418302985092165\n",
      "0.010337163095638369\n",
      "0.010257008229424824\n",
      "0.01017773379401643\n",
      "0.01009941024169303\n",
      "0.010021942227652514\n",
      "0.009945392685279164\n",
      "0.009869674504810022\n",
      "0.009794843979938073\n",
      "0.00972082136018726\n",
      "0.009647657056825798\n",
      "0.009575277918751124\n",
      "0.00950372912911035\n",
      "0.009432943474401267\n",
      "0.009362961476948928\n",
      "0.00929372128232503\n",
      "0.00922525924573081\n",
      "0.009157518364014405\n",
      "0.009090531256592427\n",
      "0.00902424532401308\n",
      "0.008958689828303334\n",
      "0.008893816177541647\n",
      "0.008829650609699813\n",
      "0.008766148188231737\n",
      "0.008703332421919174\n",
      "0.008641161715258694\n",
      "0.00857965710974945\n",
      "0.008518780069226572\n",
      "0.008458549401465842\n",
      "0.008398929376211173\n",
      "0.008339936776580903\n",
      "0.008281538449413206\n",
      "0.008223749340973863\n",
      "0.008166538667919387\n",
      "0.008109919708915336\n",
      "0.008053863862104937\n",
      "0.00799838289153365\n",
      "0.00794345020524867\n",
      "0.007889076191307298\n",
      "0.007835236110963373\n",
      "0.007781939102198043\n"
     ]
    }
   ],
   "source": [
    "n_iters = 200\n",
    "alpha = 0.4\n",
    "\n",
    "losses_dsgd = []\n",
    "accuracies_dsgd = []\n",
    "op_gap_dsgd = np.zeros(shape=[n_iters])\n",
    "re_dsgd = np.zeros(shape=[n_iters])\n",
    "\n",
    "\n",
    "\n",
    "\n",
    "for iter in range(n_iters):\n",
    "    #alpha /= (iter + 1)\n",
    "    for i in range(no_users):\n",
    "        d[i] = d_new[i].copy()\n",
    "        grad = gradient(theta[i], X[i], y[i], lambda_logistic)\n",
    "        grad_old[i] = grad.copy()\n",
    "        w_neighbors_sum = np.zeros(num_feature)\n",
    "        w_neighbors_sum = np.add(w_neighbors_sum, comm_matrix[i,i]*theta[i])\n",
    "        for j in G.neighbors(i):\n",
    "            w_neighbors_sum = np.add(w_neighbors_sum, comm_matrix[i,j]*theta[j])\n",
    "        \n",
    "        theta_new[i] = w_neighbors_sum - alpha * d[i]\n",
    "  \n",
    "    for i in range(no_users):\n",
    "        theta[i] = theta_new[i].copy()\n",
    "        grad = gradient(theta[i], X[i], y[i], lambda_logistic)\n",
    "    \n",
    "        w_neighbors_sum = np.zeros(num_feature)\n",
    "        w_neighbors_sum = np.add(w_neighbors_sum, comm_matrix[i,i]*d[i])\n",
    "        for j in G.neighbors(i):\n",
    "            w_neighbors_sum = np.add(w_neighbors_sum, comm_matrix[i,j]*d[j])\n",
    "        \n",
    "        d_new[i] = w_neighbors_sum + grad - grad_old[i]\n",
    "\n",
    "    \n",
    "    \n",
    "    theta_avg = 1/no_users*sum(theta)\n",
    "    \n",
    "    loss_dsgd = np.mean([loss(theta_avg, X[i], y[i], lambda_logistic) for i in range(no_users)])\n",
    "    losses_dsgd.append(loss_dsgd)\n",
    "  \n",
    "    op_gap_dsgd[iter] = np.abs(losses_dsgd[-1] - obj0)\n",
    "    print(op_gap_dsgd[iter])"
   ]
  },
  {
   "cell_type": "markdown",
   "metadata": {},
   "source": [
    "# Optimality Gap"
   ]
  },
  {
   "cell_type": "code",
   "execution_count": 17,
   "metadata": {},
   "outputs": [
    {
     "data": {
      "image/png": "[encoded data removed]",
      "text/plain": [
       "<Figure size 432x288 with 1 Axes>"
      ]
     },
     "metadata": {
      "needs_background": "light"
     },
     "output_type": "display_data"
    }
   ],
   "source": [
    "import matplotlib.pyplot as plt\n",
    "plt.semilogy(op_gap_dsgd)\n",
    "np.save('op_gap_gtdgd', op_gap_dsgd)"
   ]
  },
  {
   "cell_type": "code",
   "execution_count": null,
   "metadata": {},
   "outputs": [],
   "source": []
  }
 ],
 "metadata": {
  "colab": {
   "collapsed_sections": [],
   "name": "DSGD.ipynb",
   "provenance": []
  },
  "kernelspec": {
   "display_name": "Python 3",
   "language": "python",
   "name": "python3"
  },
  "language_info": {
   "codemirror_mode": {
    "name": "ipython",
    "version": 3
   },
   "file_extension": ".py",
   "mimetype": "text/x-python",
   "name": "python",
   "nbconvert_exporter": "python",
   "pygments_lexer": "ipython3",
   "version": "3.8.8"
  }
 },
 "nbformat": 4,
 "nbformat_minor": 4
}
